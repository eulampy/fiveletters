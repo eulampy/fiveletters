{
 "cells": [
  {
   "cell_type": "markdown",
   "metadata": {
    "extensions": {
     "jupyter_dashboards": {
      "activeView": "grid_default",
      "views": {
       "grid_default": {
        "col": null,
        "height": 2,
        "hidden": true,
        "row": null,
        "width": 2
       }
      }
     }
    },
    "tags": []
   },
   "source": [
    "# Игра \"5 Букв\"\n",
    "Тинькофф перезапустил игру \"5 букв\", в которой нужно отгадывать слова. Вам нужно набрать существительное из пяти букв, система покажет какие буквы этого слова есть в загаданном слове, на основе этой информации вы должны отгадать слово за несколько попыток.  \n",
    "Для призов банк подготовил скидки, кэшбэки и др. Например, за 60 слов можно получить 50%-й кэшбэк в Ozon.\n",
    "Играем в игруиз приложения Тиньков банка \"5 букв\".  Правила игры похожи на игру Wordle.\n",
    "<div>\n",
    "<img src=\"game.jpeg\" width=\"200\"/>\n",
    "</div>   \n",
    "Попробуем придумать какую-нибудь стратегию для выигрыша."
   ]
  },
  {
   "cell_type": "markdown",
   "metadata": {},
   "source": [
    "Найдем на просторах гитхаба файл со существительными.  \n",
    "[https://github.com/Badestrand/russian-dictionary] (Creative Commons Attribution Share Alike 4.0)"
   ]
  },
  {
   "cell_type": "code",
   "execution_count": 101,
   "metadata": {},
   "outputs": [],
   "source": [
    "# !curl https://github.com/Badestrand/russian-dictionary/raw/master/nouns.csv -o nouns.csv\n",
    "# !wget -O sample.jpg https://github.com/Badestrand/russian-dictionary/raw/master/nouns.csv"
   ]
  },
  {
   "cell_type": "code",
   "execution_count": 102,
   "metadata": {
    "extensions": {
     "jupyter_dashboards": {
      "activeView": "grid_default",
      "views": {
       "grid_default": {
        "col": null,
        "height": 2,
        "hidden": true,
        "row": null,
        "width": 2
       }
      }
     }
    }
   },
   "outputs": [
    {
     "data": {
      "text/plain": [
       "(['Kалькутта',\n",
       "  'Kанберра',\n",
       "  'MP3-плеер',\n",
       "  'bare',\n",
       "  'Абакан',\n",
       "  'Абердин',\n",
       "  'Абхазия',\n",
       "  'Австралия',\n",
       "  'Адыгея',\n",
       "  'Азазель'],\n",
       " 26983)"
      ]
     },
     "execution_count": 102,
     "metadata": {},
     "output_type": "execute_result"
    }
   ],
   "source": [
    "import csv\n",
    "words = []\n",
    "\n",
    "with open('nouns.csv', newline='', encoding='utf-8') as csvfile:\n",
    "    nounsdata = csv.reader(csvfile, delimiter='\\t')\n",
    "    i = 0\n",
    "    for row in nounsdata:\n",
    "        words.append(row[0])\n",
    "\n",
    "words.sort()\n",
    "(words[:10], len(words))"
   ]
  },
  {
   "cell_type": "markdown",
   "metadata": {
    "extensions": {
     "jupyter_dashboards": {
      "activeView": "grid_default",
      "views": {
       "grid_default": {
        "col": null,
        "height": 2,
        "hidden": true,
        "row": null,
        "width": 2
       }
      }
     }
    }
   },
   "source": [
    "Соберем немного статистики по словам"
   ]
  },
  {
   "cell_type": "code",
   "execution_count": 103,
   "metadata": {
    "extensions": {
     "jupyter_dashboards": {
      "activeView": "grid_default",
      "views": {
       "grid_default": {
        "col": null,
        "height": 2,
        "hidden": true,
        "row": null,
        "width": 2
       }
      }
     }
    },
    "tags": []
   },
   "outputs": [
    {
     "name": "stdout",
     "output_type": "stream",
     "text": [
      "символы не в словаре: kmp3-bareo\n"
     ]
    }
   ],
   "source": [
    "# %%time\n",
    "dict={}\n",
    "alphabet='абвгдеёжзийклмнопрстуфхцчшщъыьэюя'\n",
    "# соберем статистику по буквам\n",
    "wrongletters = ''\n",
    "for w in words:\n",
    "    for l in w.lower():\n",
    "        if l in alphabet:\n",
    "            dict[l] = dict.get(l, 0) + 1\n",
    "        else:\n",
    "            if l not in wrongletters:\n",
    "                wrongletters += l\n",
    "print(f\"символы не в словаре: {wrongletters}\")            "
   ]
  },
  {
   "cell_type": "code",
   "execution_count": 104,
   "metadata": {
    "extensions": {
     "jupyter_dashboards": {
      "activeView": "grid_default",
      "views": {
       "grid_default": {
        "col": null,
        "height": 2,
        "hidden": true,
        "row": null,
        "width": 2
       }
      }
     }
    },
    "tags": []
   },
   "outputs": [
    {
     "name": "stdout",
     "output_type": "stream",
     "text": [
      "Буквы, отсортированные по степени встречаемости: аоеинрткслвпдмуьбзгяцчжшыхфйщёюэъ\n"
     ]
    }
   ],
   "source": [
    "sorted_tuples = sorted(dict.items(), key=lambda x: x[1],reverse=True) \n",
    "sorted_dict = {k: v for k, v in sorted_tuples}\n",
    "mostusedletters = \"\".join(list(sorted_dict.keys()))\n",
    "print(f\"Буквы, отсортированные по степени встречаемости: {mostusedletters}\")"
   ]
  },
  {
   "cell_type": "markdown",
   "metadata": {},
   "source": [
    "Для нашей игры выберем из прочитанного списка только те слова, которые:\n",
    "* состоят из 5 букв\n",
    "* не содержат символы не из алфавита (дефисы, английские буквы)\n",
    "* не начинаются с заглавной буквы  \n",
    "При этом \"ё\" заменим на \"е\""
   ]
  },
  {
   "cell_type": "code",
   "execution_count": 105,
   "metadata": {
    "extensions": {
     "jupyter_dashboards": {
      "activeView": "grid_default",
      "views": {
       "grid_default": {
        "col": null,
        "height": 2,
        "hidden": true,
        "row": null,
        "width": 2
       }
      }
     }
    }
   },
   "outputs": [
    {
     "data": {
      "text/plain": [
       "2616"
      ]
     },
     "execution_count": 105,
     "metadata": {},
     "output_type": "execute_result"
    }
   ],
   "source": [
    "words5l = [w.lower().replace('ё','е') for w in words if (len(w)==5) & (set(w)-set(alphabet)==set()) & (w.lower()[0]==w[0])]\n",
    "words5l[:5]\n",
    "len(words5l)"
   ]
  },
  {
   "cell_type": "markdown",
   "metadata": {},
   "source": [
    "Что насчет дубликатов?"
   ]
  },
  {
   "cell_type": "code",
   "execution_count": 106,
   "metadata": {},
   "outputs": [
    {
     "name": "stdout",
     "output_type": "stream",
     "text": [
      "{'кирка', 'станс', 'падеж', 'кегль', 'вафля', 'отзыв', 'сокол', 'броня', 'мошка', 'тупик', 'замок', 'венец', 'телка', 'атлас', 'скала', 'орган', 'рэгги', 'баржа', 'валух', 'повод', 'битум', 'волна', 'басма'}\n"
     ]
    }
   ],
   "source": [
    "dwords5l = ([w for w in words5l if words5l.count(w)>1])\n",
    "print(set(dwords5l))"
   ]
  },
  {
   "cell_type": "markdown",
   "metadata": {},
   "source": [
    "Почему-то они есть, странно. Удалим дубликаты"
   ]
  },
  {
   "cell_type": "code",
   "execution_count": 107,
   "metadata": {},
   "outputs": [
    {
     "data": {
      "text/plain": [
       "2593"
      ]
     },
     "execution_count": 107,
     "metadata": {},
     "output_type": "execute_result"
    }
   ],
   "source": [
    "words5l=list(set(words5l))\n",
    "len(words5l)"
   ]
  },
  {
   "cell_type": "markdown",
   "metadata": {
    "extensions": {
     "jupyter_dashboards": {
      "activeView": "grid_default",
      "views": {
       "grid_default": {
        "col": null,
        "height": 2,
        "hidden": true,
        "row": null,
        "width": 2
       }
      }
     }
    }
   },
   "source": [
    "Снова соберем статистику по буквам"
   ]
  },
  {
   "cell_type": "code",
   "execution_count": 108,
   "metadata": {
    "extensions": {
     "jupyter_dashboards": {
      "activeView": "grid_default",
      "views": {
       "grid_default": {
        "col": null,
        "height": 2,
        "hidden": true,
        "row": null,
        "width": 2
       }
      }
     }
    }
   },
   "outputs": [
    {
     "name": "stdout",
     "output_type": "stream",
     "text": [
      "символы не в словаре: \n",
      "Буквы, отсортированные по степени встречаемости: аокретилнсупмвбдзгьяшчыхжфйцющэъ\n"
     ]
    }
   ],
   "source": [
    "# соберем статистику по буквам\n",
    "dict={}\n",
    "wrongletters = ''\n",
    "for w in words5l:\n",
    "    for l in w:\n",
    "        if l in alphabet:\n",
    "            dict[l] = dict.get(l, 0) + 1\n",
    "        else:\n",
    "            if l not in wrongletters:\n",
    "                wrongletters += l\n",
    "print(f\"символы не в словаре: {wrongletters}\")\n",
    "sorted_tuples = sorted(dict.items(), key=lambda x: x[1],reverse=True)\n",
    "sorted_dict = {k: v for k, v in sorted_tuples}\n",
    "mostusedletters = \"\".join(list(sorted_dict.keys()))\n",
    "print(f\"Буквы, отсортированные по степени встречаемости: {mostusedletters}\")"
   ]
  },
  {
   "cell_type": "code",
   "execution_count": 109,
   "metadata": {},
   "outputs": [],
   "source": [
    "# а теперь посмотрим, на каких местах каждая буква встречается чаще\n",
    "alphabet='абвгдежзийклмнопрстуфхцчшщъыьэюя' # буква 'ё' по правилам игры заменяется на 'е'\n",
    "letterplaces={k: [0]*5 for k in alphabet}\n",
    "for w in words5l:\n",
    "    for l,i in zip(w,range(5)):        \n",
    "        letterplaces[l][i] += 1\n",
    "\n",
    "# letterplaces = {k:[l/sum(letterplaces[k]) for l in letterplaces[k]] for k in letterplaces}  # нормируем места по буквам\n",
    "# sum([sum(letterplaces[k]) for k in letterplaces]) - len(letterplaces) # =0"
   ]
  },
  {
   "cell_type": "markdown",
   "metadata": {},
   "source": [
    "Для удобства объявим функцию подсчета \"рейтинга\" слова. Чем больше в слове часто встречающихся букв, тем лучше. Одинаковые буквы считаются за одну."
   ]
  },
  {
   "cell_type": "code",
   "execution_count": 110,
   "metadata": {},
   "outputs": [
    {
     "data": {
      "text/plain": [
       "(1477, 163, 163, 206, 206)"
      ]
     },
     "execution_count": 110,
     "metadata": {},
     "output_type": "execute_result"
    }
   ],
   "source": [
    "def score(w, ignore='', checkplace=True):\n",
    "    if ignore == '': ignore = '_'*len(w)\n",
    "    s=0\n",
    "    for i in range(len(w)):\n",
    "        if ignore[i] not in alphabet: # вместо буквы находится символ, значит буква учавствует в подсчете\n",
    "            if not checkplace:\n",
    "                s += sorted_dict[w[i]]//w.count(w[i])\n",
    "            else:\n",
    "                s += letterplaces[w[i]][i]//w.count(w[i])\n",
    "    return s\n",
    "\n",
    "\n",
    "(score('попка'), score('попка','_о_ка'), (letterplaces['п'][0] + letterplaces['п'][2]) // 2, sum(letterplaces['п'])//2, sorted_dict['п']//2) # 1477, 163=163, 206=206\n",
    " "
   ]
  },
  {
   "cell_type": "markdown",
   "metadata": {
    "extensions": {
     "jupyter_dashboards": {
      "activeView": "grid_default",
      "views": {
       "grid_default": {
        "col": null,
        "height": 2,
        "hidden": true,
        "row": null,
        "width": 2
       }
      }
     }
    }
   },
   "source": [
    "Теперь можно посчитать рейтинг всех слов из 5 букв и найти слова с самыми используемыми буквами"
   ]
  },
  {
   "cell_type": "code",
   "execution_count": 111,
   "metadata": {},
   "outputs": [
    {
     "data": {
      "text/plain": [
       "[['порка', 1844],\n",
       " ['солка', 1798],\n",
       " ['полка', 1787],\n",
       " ['перка', 1741],\n",
       " ['горка', 1728],\n",
       " ['сотка', 1727],\n",
       " ['парок', 1725],\n",
       " ['норка', 1707],\n",
       " ['сопка', 1652],\n",
       " ['мерка', 1647]]"
      ]
     },
     "execution_count": 111,
     "metadata": {},
     "output_type": "execute_result"
    }
   ],
   "source": [
    "scorelist=[[w, score(w)] for w in words5l]\n",
    "sorted(scorelist,key=lambda x: x[1],reverse=True)[:10]"
   ]
  },
  {
   "cell_type": "markdown",
   "metadata": {},
   "source": [
    "Начинать игру надо со слова \"порка\". А если бы местоположение букв не учитывалось, это был бы \"коран\" или \"норка\". Ну и ради интереса выведем список 10 самых неудачных для начала игры слов."
   ]
  },
  {
   "cell_type": "code",
   "execution_count": 112,
   "metadata": {},
   "outputs": [
    {
     "data": {
      "text/plain": [
       "[['уксус', 247],\n",
       " ['хиппи', 245],\n",
       " ['овощи', 244],\n",
       " ['извив', 242],\n",
       " ['рэгги', 233],\n",
       " ['уздцы', 225],\n",
       " ['дзюдо', 224],\n",
       " ['рсфср', 218],\n",
       " ['жмыхи', 180],\n",
       " ['имидж', 166]]"
      ]
     },
     "execution_count": 112,
     "metadata": {},
     "output_type": "execute_result"
    }
   ],
   "source": [
    "sorted(scorelist,key=lambda x: x[1],reverse=True)[-10:]"
   ]
  },
  {
   "cell_type": "markdown",
   "metadata": {},
   "source": [
    "Хм. \"РСФСР\" - аббревиатура, надо придумать какой-нибудь фильтр (все буквы согласные? или заглавные?)  \n",
    "Осталось объявить несколько вспомогательных функций"
   ]
  },
  {
   "cell_type": "code",
   "execution_count": 113,
   "metadata": {
    "extensions": {
     "jupyter_dashboards": {
      "activeView": "grid_default",
      "views": {
       "grid_default": {
        "col": null,
        "height": 2,
        "hidden": true,
        "row": null,
        "width": 2
       }
      }
     }
    }
   },
   "outputs": [
    {
     "name": "stdout",
     "output_type": "stream",
     "text": [
      "+****\n",
      "('пра', {'к': [3]}, '_о___')\n",
      "('пляра', {'к': [3, 0]}, '_о_е_')\n"
     ]
    }
   ],
   "source": [
    "# проверка слова, как это присходит в игре\n",
    "def checkword(rightword, testword):\n",
    "    result=''\n",
    "    for rl, tl in zip(rightword, testword):\n",
    "        if tl not in rightword:\n",
    "            result = result + '-'\n",
    "        else:\n",
    "            if tl==rl:\n",
    "                result = result + '+'\n",
    "            else:\n",
    "                result = result + '*'\n",
    "    return result\n",
    "\n",
    "print(checkword('крона', 'коран'))\n",
    "\n",
    "# разбор результата проверки с записью в соответствующие переменные\n",
    "def scanresults(testword, result, wrongletters='', wrongplaces={}, rightplaces=''):\n",
    "    if rightplaces=='': rightplaces = '_' * len(testword)\n",
    "    for r,i in zip(result, range(len(testword))):\n",
    "        # print (r,i)\n",
    "        l = testword[i]\n",
    "        if (r=='-'):\n",
    "            wrongletters = ''.join(set(wrongletters) | set(l))\n",
    "        elif (r=='*'):\n",
    "            wrongplaces[l] = wrongplaces.get(l,[]) + [i]\n",
    "        else:\n",
    "            t = list(rightplaces)\n",
    "            t[i] = l\n",
    "            rightplaces = ''.join(t)\n",
    "    return (wrongletters, wrongplaces, rightplaces)\n",
    "\n",
    "print(scanresults('порка','-+-*-'))\n",
    "print(scanresults('колея','*+-+-','пра', {'к': [3]}, '_о___'))"
   ]
  },
  {
   "cell_type": "code",
   "execution_count": 114,
   "metadata": {
    "extensions": {
     "jupyter_dashboards": {
      "activeView": "grid_default",
      "views": {
       "grid_default": {
        "col": null,
        "height": 2,
        "hidden": true,
        "row": null,
        "width": 2
       }
      }
     }
    }
   },
   "outputs": [],
   "source": [
    "# вывод списка слов, удовлетворяющих условиям\n",
    "def predictwords(wrongletters, wrongplaces, rightplaces, wordsarray):\n",
    "    goodwords = []\n",
    "    for w in wordsarray:\n",
    "        badwordflag = False\n",
    "        \n",
    "        # 1) в слове должны быть найденные буквы в нужных местах\n",
    "        for i in range(len(rightplaces)):\n",
    "            if (rightplaces[i] != '_') & (rightplaces[i] != w[i]):\n",
    "                badwordflag = True\n",
    "                break\n",
    "        if badwordflag: continue\n",
    "        \n",
    "        # 2) в слове не должно быть отсутствующих букв\n",
    "        for l in w:\n",
    "            if l in wrongletters:\n",
    "                badwordflag = True\n",
    "                break\n",
    "        if badwordflag: continue\n",
    "        \n",
    "        # 3) в слове должны быть неправильно расположенные буквы\n",
    "        # 4) в слове неправильно расположенные буквы не должны быть на неправильных местах\n",
    "        for l in list(wrongplaces.keys()):\n",
    "            if l not in w: # неправильно расположенные буквы должны быть в слове (странно, да?)\n",
    "                badwordflag = True\n",
    "                break\n",
    "            else:\n",
    "                for i in range(len(w)):\n",
    "                    if (l == w[i]) & (i in wrongplaces[l]): # если место буквы в слове есть в списке \"плохих\" мест\n",
    "                        badwordflag = True\n",
    "                        break\n",
    "        if badwordflag: continue\n",
    "        \n",
    "        # переехало в цикл к условию 3)\n",
    "        # for l in list(wrongplaces.keys()):\n",
    "        #     if l not in w:\n",
    "        #         badwordflag = True\n",
    "        #         break\n",
    "        # if badwordflag: continue\n",
    "        goodwords += [w]\n",
    "    return goodwords    "
   ]
  },
  {
   "cell_type": "markdown",
   "metadata": {},
   "source": [
    "Посчитаем, сколько нужно ходов для угадывания каждого слова. Объявим функцию, которая делает одну итерацию игры."
   ]
  },
  {
   "cell_type": "code",
   "execution_count": 115,
   "metadata": {},
   "outputs": [],
   "source": [
    "def oneturn(secret, tryword, wrongletters='', wrongplaces={}, rightplaces='', checkplace=True):\n",
    "    # проверяем слово, разбираем результат\n",
    "    (wrongletters, wrongplaces, rightplaces) = scanresults(tryword, checkword(secret, tryword), wrongletters, wrongplaces, rightplaces)\n",
    "    # ищем слова, подходящие по условиям\n",
    "    nextwords = predictwords(wrongletters, wrongplaces, rightplaces, words5l)\n",
    "    if(len(nextwords)==1):\n",
    "        return ('', wrongletters, wrongplaces, rightplaces)\n",
    "    else:\n",
    "        # подсчитаем рейтинг найденных слов\n",
    "        scorelist=[[w, score(w, rightplaces, checkplace)] for w in nextwords]\n",
    "        newwords=sorted(scorelist,key=lambda x: x[1],reverse=True)\n",
    "        return(newwords[0][0], wrongletters, wrongplaces, rightplaces) # вернем слово с самым большым рейтингом"
   ]
  },
  {
   "cell_type": "markdown",
   "metadata": {},
   "source": [
    "Погнали! Сначала посчитаем ходы с учетом местоположения букв в слове (слова с буквами, расопложенными на \"популярных\" для этой буквы местах оцениваются выше)"
   ]
  },
  {
   "cell_type": "code",
   "execution_count": 126,
   "metadata": {
    "tags": []
   },
   "outputs": [
    {
     "name": "stdout",
     "output_type": "stream",
     "text": [
      "Wall time: 41.6 s\n"
     ]
    },
    {
     "data": {
      "text/plain": [
       "2593"
      ]
     },
     "execution_count": 126,
     "metadata": {},
     "output_type": "execute_result"
    }
   ],
   "source": [
    "%%time\n",
    "turnswithcheckplace=[]\n",
    "for w in words5l:\n",
    "    wrongletters=''; wrongplaces={}; rightplaces=''\n",
    "    newword='порка'\n",
    "    counter=0\n",
    "    while newword != '':\n",
    "        counter+=1\n",
    "        if counter>10: break\n",
    "        (newword, wrongletters, wrongplaces, rightplaces) = oneturn(w, newword, wrongletters, wrongplaces, rightplaces, True)\n",
    "    turnswithcheckplace += [counter]\n",
    "#         print(f'Следущее слово: {newword}')\n",
    "\n",
    "len(turnswithcheckplace)"
   ]
  },
  {
   "cell_type": "markdown",
   "metadata": {},
   "source": [
    "4,88 с на Intel Core i7 870 @2.93Ggz  \n",
    "42,2 с на Phenom II X4 960T @3Ggz - какая-то ошибка в установленном питоне, не может быть такая разница"
   ]
  },
  {
   "cell_type": "markdown",
   "metadata": {},
   "source": [
    "А теперь без учета местоположения букв"
   ]
  },
  {
   "cell_type": "code",
   "execution_count": 125,
   "metadata": {
    "tags": []
   },
   "outputs": [
    {
     "name": "stdout",
     "output_type": "stream",
     "text": [
      "Wall time: 43.1 s\n"
     ]
    },
    {
     "data": {
      "text/plain": [
       "2593"
      ]
     },
     "execution_count": 125,
     "metadata": {},
     "output_type": "execute_result"
    }
   ],
   "source": [
    "%%time\n",
    "turnswithoutcheckplace=[]\n",
    "for w in words5l:\n",
    "    wrongletters=''; wrongplaces={}; rightplaces=''\n",
    "    newword='порка'\n",
    "    counter=0\n",
    "    while newword != '':\n",
    "        counter+=1\n",
    "        if counter>10: break\n",
    "        (newword, wrongletters, wrongplaces, rightplaces) = oneturn(w, newword, wrongletters, wrongplaces, rightplaces, False)\n",
    "    turnswithoutcheckplace += [counter]\n",
    "#         print(f'Следущее слово: {newword}')\n",
    "\n",
    "len(turnswithcheckplace)"
   ]
  },
  {
   "cell_type": "markdown",
   "metadata": {},
   "source": [
    "4,72 с на Intel Core i7 870 @2.93Ggz  \n",
    "43,5 с на Phenom II X4 960T @3Ggz"
   ]
  },
  {
   "cell_type": "markdown",
   "metadata": {},
   "source": [
    "Попробуем использовать pandas, seaborn и построим наглядные гистограммы"
   ]
  },
  {
   "cell_type": "code",
   "execution_count": 118,
   "metadata": {},
   "outputs": [
    {
     "data": {
      "text/plain": [
       "<AxesSubplot:xlabel='turns', ylabel='count'>"
      ]
     },
     "execution_count": 118,
     "metadata": {},
     "output_type": "execute_result"
    },
    {
     "data": {
      "image/png": "[encoded data removed]",
      "text/plain": [
       "<Figure size 432x288 with 1 Axes>"
      ]
     },
     "metadata": {
      "needs_background": "light"
     },
     "output_type": "display_data"
    }
   ],
   "source": [
    "# import numpy as np\n",
    "import pandas as pd\n",
    "# import matplotlib.pyplot as plt\n",
    "import seaborn as sns\n",
    "\n",
    "# соберем датафрейм\n",
    "df = pd.DataFrame({ 'turns': turnswithoutcheckplace + turnswithcheckplace, \n",
    "                    'check': [False]*len(words5l) + [True]*len(words5l)})\n",
    "\n",
    "# две гистограммы рядом\n",
    "# _, axes = plt.subplots(1, 2, sharey=True, figsize=(15, 5))\n",
    "# axes[0].set_title(f\"withoutcheckplace (mean={statistics.mean(turnswithoutcheckplace)})\")\n",
    "# axes[1].set_title(f\"withcheckplace (mean={statistics.mean(turnswithcheckplace)})\")\n",
    "# sns.histplot(turnswithoutcheckplace, ax=axes[0])\n",
    "# sns.histplot(turnswithcheckplace, ax=axes[1])\n",
    "\n",
    "# слишком тонкие прямоугольники\n",
    "# sns.histplot(x='turns', data=df, hue='check',alpha=0.5, multiple='dodge') \n",
    "\n",
    "# красиво, но без подписей\n",
    "# plt.hist([turnswithoutcheckplace, turnswithcheckplace]);\n",
    "\n",
    "sns.countplot(x='turns',hue='check',data=df)\n"
   ]
  },
  {
   "cell_type": "markdown",
   "metadata": {},
   "source": [
    "Выводы, которые можно сделать из графика:\n",
    "1) Внезапно, учет местоположения буквы даёт небольшой выигрыш в числе попыток.  \n",
    "2) Есть такие слова, которые не отгадать за 6 ходов, используя выбранную стратегию. Найдем их"
   ]
  },
  {
   "cell_type": "code",
   "execution_count": 119,
   "metadata": {},
   "outputs": [
    {
     "name": "stdout",
     "output_type": "stream",
     "text": [
      "давка: 7 5\n",
      "честь: 8 7\n",
      "тесть: 7 6\n",
      "дудка: 6 8\n",
      "гайка: 9 5\n",
      "жучка: 7 6\n",
      "жесть: 8 7\n",
      "бобок: 7 5\n",
      "шизик: 5 7\n",
      "байка: 8 6\n",
      "шавка: 7 5\n",
      "шашка: 8 8\n",
      "душка: 7 7\n",
      "чушка: 7 7\n",
      "тетка: 7 7\n",
      "башка: 8 5\n",
      "щетка: 7 7\n",
      "мойка: 6 7\n",
      "дачка: 7 6\n",
      "чайка: 9 8\n",
      "дужка: 7 8\n",
      "бабка: 8 6\n",
      "чашка: 8 8\n",
      "божок: 7 5\n",
      "чуйка: 7 7\n",
      "качка: 5 7\n",
      "фишка: 6 7\n",
      "шишка: 6 7\n",
      "шайка: 8 8\n",
      "кашка: 5 7\n",
      "мошка: 5 7\n",
      "чижик: 5 7\n",
      "заика: 5 7\n",
      "зайка: 5 7\n"
     ]
    }
   ],
   "source": [
    "for i in range(len(words5l)):\n",
    "    if (turnswithoutcheckplace[i]>6) | (turnswithcheckplace[i]>6):\n",
    "        print(f\"{words5l[i]}: {turnswithoutcheckplace[i]} {turnswithcheckplace[i]}\")"
   ]
  },
  {
   "cell_type": "markdown",
   "metadata": {},
   "source": [
    "Самое трудное слово для обоих методов расчета рейтинга: \"чайка\""
   ]
  },
  {
   "cell_type": "code",
   "execution_count": 120,
   "metadata": {},
   "outputs": [
    {
     "data": {
      "text/plain": [
       "(23, 23)"
      ]
     },
     "execution_count": 120,
     "metadata": {},
     "output_type": "execute_result"
    }
   ],
   "source": [
    "(len([[words5l[i],t] for t, i in zip(turnswithoutcheckplace,range(len(turnswithoutcheckplace))) if t > 6]),\n",
    "len([[words5l[i],t] for t, i in zip(turnswithcheckplace,range(len(turnswithoutcheckplace))) if t > 6]))"
   ]
  },
  {
   "cell_type": "markdown",
   "metadata": {},
   "source": [
    "Количество слов, которые не отгадываются за 6 ходов слов, одинаковое для обоих способов расчета рейтинга.  \n",
    "Судя по гистограмме, есть слова, которые угадываются на второй ход. Посмотрим на них."
   ]
  },
  {
   "cell_type": "code",
   "execution_count": 121,
   "metadata": {},
   "outputs": [
    {
     "name": "stdout",
     "output_type": "stream",
     "text": [
      "['капер', 'парик', 'право', 'копра', 'укроп', 'нерпа', 'показ', 'паром', 'крепь', 'капор', 'серко', 'порча', 'комар', 'толпа', 'пункт', 'бурки', 'порок', 'копна', 'порка', 'покер', 'осока', 'копер', 'репка', 'кобра', 'коран', 'пирог', 'пикша', 'крупа', 'пивко', 'парок', 'скрап']\n"
     ]
    }
   ],
   "source": [
    "print([words5l[i] for t, i in zip(turnswithcheckplace,range(len(turnswithoutcheckplace))) if t == 1])"
   ]
  },
  {
   "cell_type": "markdown",
   "metadata": {},
   "source": [
    "Посмотрим, сколько ходов нужно сделать, что бы угадать слово \"чайка\""
   ]
  },
  {
   "cell_type": "code",
   "execution_count": 122,
   "metadata": {},
   "outputs": [
    {
     "name": "stdout",
     "output_type": "stream",
     "text": [
      "('порка', '---++', '___ка', 138)\n",
      "('белка', '---++', '___ка', 74)\n",
      "('самка', '-+-++', '_а_ка', 22)\n",
      "('ватка', '-+-++', '_а_ка', 14)\n",
      "('ганка', '-+-++', '_а_ка', 10)\n",
      "('кадка', '*+-++', '_а_ка', 6)\n",
      "('заика', '-+-++', '_а_ка', 4)\n",
      "('шайка', '-++++', '_айка', 1)\n",
      "['чайка']\n"
     ]
    }
   ],
   "source": [
    "tryword = 'порка'\n",
    "secret = 'чайка'\n",
    "wrongletters=''; wrongplaces={}; rightplaces=''\n",
    "i = 0\n",
    "while i < 10:\n",
    "    i += 1\n",
    "    checkresult = checkword(secret, tryword)\n",
    "    (wrongletters, wrongplaces, rightplaces) = scanresults(tryword, checkresult, wrongletters, wrongplaces, rightplaces)\n",
    "    nextwords = predictwords(wrongletters, wrongplaces, rightplaces, words5l)\n",
    "    print( (tryword, checkresult,rightplaces,len(nextwords)) )\n",
    "    if(len(nextwords)==1):\n",
    "        print(nextwords)\n",
    "        break\n",
    "    else:\n",
    "        scorelist=[[w, score(w, rightplaces)] for w in nextwords]\n",
    "        newwords=sorted(scorelist,key=lambda x: x[1],reverse=True)\n",
    "        tryword=newwords[0][0]\n"
   ]
  },
  {
   "cell_type": "markdown",
   "metadata": {},
   "source": [
    "А теперь забубеним мега-функцию, которая на основании предыдущих попыток предлагает новое слово"
   ]
  },
  {
   "cell_type": "code",
   "execution_count": 135,
   "metadata": {},
   "outputs": [],
   "source": [
    "def predictnextword(attempts):\n",
    "    wrongletters = ''\n",
    "    wrongplaces = {}\n",
    "    rightplaces = ''\n",
    "\n",
    "    # разберем попытки   \n",
    "    for tryword,result in attempts:\n",
    "        wrongletters, wrongplaces, rightplaces = scanresults(tryword, result, wrongletters, wrongplaces, rightplaces)\n",
    "\n",
    "    # print((wrongletters, wrongplaces, rightplaces))\n",
    "    nextwords = predictwords(wrongletters, wrongplaces, rightplaces, words5l)\n",
    "    scorelist=[[w, score(w, rightplaces)] for w in nextwords]\n",
    "    newwords=sorted(scorelist,key=lambda x: x[1],reverse=True)\n",
    "    return f\"{min(10,len(newwords))} из {len(newwords)}:\", newwords[:10]"
   ]
  },
  {
   "cell_type": "code",
   "execution_count": 139,
   "metadata": {},
   "outputs": [
    {
     "data": {
      "text/plain": [
       "('6 из 6:',\n",
       " [['заика', 180],\n",
       "  ['зайка', 129],\n",
       "  ['шайка', 111],\n",
       "  ['чашка', 101],\n",
       "  ['чайка', 86],\n",
       "  ['шашка', 62]])"
      ]
     },
     "execution_count": 139,
     "metadata": {},
     "output_type": "execute_result"
    }
   ],
   "source": [
    "predictnextword([['порка','---++'],['белка','---++'],['самка','-+-++'],['ватка','-+-++'],['ганка','-+-++'],['кадка','*+-++']])   "
   ]
  }
 ],
 "metadata": {
  "extensions": {
   "jupyter_dashboards": {
    "activeView": "grid_default",
    "version": 1,
    "views": {
     "grid_default": {
      "cellMargin": 2,
      "defaultCellHeight": 60,
      "maxColumns": 12,
      "name": "grid",
      "type": "grid"
     }
    }
   }
  },
  "kernelspec": {
   "display_name": "Python 3",
   "language": "python",
   "name": "python3"
  },
  "language_info": {
   "codemirror_mode": {
    "name": "ipython",
    "version": 3
   },
   "file_extension": ".py",
   "mimetype": "text/x-python",
   "name": "python",
   "nbconvert_exporter": "python",
   "pygments_lexer": "ipython3",
   "version": "3.8.5"
  }
 },
 "nbformat": 4,
 "nbformat_minor": 4
}
