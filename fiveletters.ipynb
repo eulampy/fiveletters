{
 "cells": [
  {
   "cell_type": "markdown",
   "metadata": {
    "extensions": {
     "jupyter_dashboards": {
      "activeView": "grid_default",
      "views": {
       "grid_default": {
        "col": null,
        "height": 2,
        "hidden": true,
        "row": null,
        "width": 2
       }
      }
     }
    },
    "tags": []
   },
   "source": [
    "# Игра \"5 Букв\"\n",
    "Тинькофф перезапустил игру \"5 букв\", в которой нужно отгадывать слова. Вам нужно набрать существительное из пяти букв, система покажет какие буквы этого слова есть в загаданном слове, на основе этой информации вы должны отгадать слово за несколько попыток.  \n",
    "Для призов банк подготовил скидки, кэшбэки и др. Например, за 60 слов можно получить 50%-й кэшбэк в Ozon.\n",
    "Играем в игру из приложения Тиньков банка \"5 букв\".  Правила игры похожи на игру Wordle.\n",
    "<div>\n",
    "<img src=\"game.jpeg\" width=\"200\"/>\n",
    "</div>   \n",
    "Попробуем придумать какую-нибудь стратегию для выигрыша."
   ]
  },
  {
   "cell_type": "markdown",
   "metadata": {},
   "source": [
    "Для нашей игры прочитаем список слов, которые:\n",
    "* состоят из 5 букв\n",
    "* не содержат символы не из алфавита (дефисы, английские буквы)\n",
    "* не начинаются с заглавной буквы  \n",
    "\n",
    "Исходный файл *nouns.csv* взят с гитхаба [https://github.com/Badestrand/russian-dictionary] (Creative Commons Attribution Share Alike 4.0)"
   ]
  },
  {
   "cell_type": "markdown",
   "metadata": {},
   "source": [
    "## Импорт и проверка"
   ]
  },
  {
   "cell_type": "code",
   "execution_count": 1,
   "metadata": {
    "tags": []
   },
   "outputs": [
    {
     "data": {
      "text/plain": [
       "(['аарон',\n",
       "  'абака',\n",
       "  'аббат',\n",
       "  'абвер',\n",
       "  'абзац',\n",
       "  'аборт',\n",
       "  'абрек',\n",
       "  'абрис',\n",
       "  'абхаз',\n",
       "  'абцуг'],\n",
       " 3619)"
      ]
     },
     "execution_count": 1,
     "metadata": {},
     "output_type": "execute_result"
    }
   ],
   "source": [
    "words = []\n",
    "with open('nouns.txt', encoding='utf-8') as file:\n",
    "    words = [w.strip() for w in file.readlines()]\n",
    "    \n",
    "words = [w for w in words if not 'ё' in w] # отбрасываем слова с буквой \"ё\" \n",
    "words.sort()\n",
    "(words[:10], len(words))"
   ]
  },
  {
   "cell_type": "markdown",
   "metadata": {},
   "source": [
    "Что насчет дубликатов?"
   ]
  },
  {
   "cell_type": "code",
   "execution_count": 2,
   "metadata": {},
   "outputs": [
    {
     "name": "stdout",
     "output_type": "stream",
     "text": [
      "Дубликатов нет\n"
     ]
    }
   ],
   "source": [
    "dwords = ([w for w in words if words.count(w)>1])\n",
    "if len(set(dwords))==0:\n",
    "    print(\"Дубликатов нет\")\n",
    "else:\n",
    "    print(f'Найдены дубликаты: {set(dwords)}. Удаляю их.')\n",
    "    words=list(set(words))"
   ]
  },
  {
   "cell_type": "markdown",
   "metadata": {},
   "source": [
    "Аббревиатуры (они были)"
   ]
  },
  {
   "cell_type": "code",
   "execution_count": 3,
   "metadata": {
    "tags": []
   },
   "outputs": [
    {
     "data": {
      "text/plain": [
       "[]"
      ]
     },
     "execution_count": 3,
     "metadata": {},
     "output_type": "execute_result"
    }
   ],
   "source": [
    "[w for w in words if sum(1 for x in w if x in 'бвгджзйклмнпрстфхцчшщ') >= 5]"
   ]
  },
  {
   "cell_type": "markdown",
   "metadata": {},
   "source": [
    "## Считаем статистику"
   ]
  },
  {
   "cell_type": "markdown",
   "metadata": {
    "extensions": {
     "jupyter_dashboards": {
      "activeView": "grid_default",
      "views": {
       "grid_default": {
        "col": null,
        "height": 2,
        "hidden": true,
        "row": null,
        "width": 2
       }
      }
     }
    }
   },
   "source": [
    "Cоберем статистику по буквам"
   ]
  },
  {
   "cell_type": "code",
   "execution_count": 4,
   "metadata": {
    "extensions": {
     "jupyter_dashboards": {
      "activeView": "grid_default",
      "views": {
       "grid_default": {
        "col": null,
        "height": 2,
        "hidden": true,
        "row": null,
        "width": 2
       }
      }
     }
    }
   },
   "outputs": [
    {
     "name": "stdout",
     "output_type": "stream",
     "text": [
      "символы не в словаре: \n",
      "Буквы, отсортированные по степени встречаемости: аокриетнлсупмбвдгзяшьыхчфжйцющэъ\n"
     ]
    }
   ],
   "source": [
    "# соберем статистику по буквам\n",
    "# а теперь посмотрим, на каких местах каждая буква встречается чаще\n",
    "alphabet='абвгдеёжзийклмнопрстуфхцчшщъыьэюя' # буква 'ё' по правилам игры заменяется на 'е'\n",
    "dict={}\n",
    "wrongletters = ''\n",
    "for w in words:\n",
    "    for l in w:\n",
    "        if l in alphabet:\n",
    "            dict[l] = dict.get(l, 0) + 1\n",
    "        else:\n",
    "            if l not in wrongletters:\n",
    "                wrongletters += l\n",
    "print(f\"символы не в словаре: {wrongletters}\")\n",
    "sorted_tuples = sorted(dict.items(), key=lambda x: x[1],reverse=True)\n",
    "sorted_dict = {k: v for k, v in sorted_tuples}\n",
    "mostusedletters = \"\".join(list(sorted_dict.keys()))\n",
    "print(f\"Буквы, отсортированные по степени встречаемости: {mostusedletters}\")"
   ]
  },
  {
   "cell_type": "code",
   "execution_count": 5,
   "metadata": {},
   "outputs": [],
   "source": [
    "# а теперь посмотрим, на каких местах каждая буква встречается чаще\n",
    "letterplaces={k: [0]*5 for k in alphabet}\n",
    "for w in words:\n",
    "    for l,i in zip(w,range(5)):        \n",
    "        letterplaces[l][i] += 1\n",
    "\n",
    "# letterplaces = {k:[l/sum(letterplaces[k]) for l in letterplaces[k]] for k in letterplaces}  # нормируем места по буквам\n",
    "# sum([sum(letterplaces[k]) for k in letterplaces]) - len(letterplaces) # =0"
   ]
  },
  {
   "cell_type": "code",
   "execution_count": 6,
   "metadata": {
    "tags": []
   },
   "outputs": [
    {
     "data": {
      "text/plain": [
       "{'а': [129, 739, 176, 387, 869],\n",
       " 'б': [210, 66, 141, 47, 32],\n",
       " 'в': [192, 55, 126, 63, 54],\n",
       " 'г': [142, 28, 95, 53, 50],\n",
       " 'д': [145, 21, 141, 76, 92],\n",
       " 'е': [14, 373, 165, 345, 53],\n",
       " 'ё': [0, 0, 0, 0, 0],\n",
       " 'ж': [48, 12, 68, 24, 27],\n",
       " 'з': [106, 41, 113, 53, 48],\n",
       " 'и': [58, 332, 152, 387, 90],\n",
       " 'й': [0, 6, 67, 12, 85],\n",
       " 'к': [315, 77, 152, 337, 386],\n",
       " 'л': [155, 139, 314, 158, 101],\n",
       " 'м': [207, 47, 176, 75, 63],\n",
       " 'н': [121, 64, 210, 206, 275],\n",
       " 'о': [201, 541, 124, 513, 153],\n",
       " 'п': [323, 48, 144, 36, 42],\n",
       " 'р': [154, 227, 421, 144, 214],\n",
       " 'с': [354, 65, 171, 93, 154],\n",
       " 'т': [198, 131, 221, 121, 236],\n",
       " 'у': [66, 364, 73, 171, 7],\n",
       " 'ф': [103, 9, 42, 14, 18],\n",
       " 'х': [82, 12, 57, 26, 40],\n",
       " 'ц': [28, 2, 23, 33, 77],\n",
       " 'ч': [72, 3, 73, 26, 37],\n",
       " 'ш': [121, 11, 70, 33, 35],\n",
       " 'щ': [13, 4, 15, 13, 0],\n",
       " 'ъ': [0, 2, 1, 0, 0],\n",
       " 'ы': [0, 102, 29, 49, 38],\n",
       " 'ь': [0, 6, 7, 43, 194],\n",
       " 'э': [27, 7, 6, 0, 1],\n",
       " 'ю': [14, 42, 18, 26, 1],\n",
       " 'я': [21, 43, 28, 55, 147]}"
      ]
     },
     "execution_count": 6,
     "metadata": {},
     "output_type": "execute_result"
    }
   ],
   "source": [
    "letterplaces"
   ]
  },
  {
   "cell_type": "markdown",
   "metadata": {},
   "source": [
    "Для удобства объявим функцию подсчета \"рейтинга\" слова. Чем больше в слове часто встречающихся букв, тем лучше. Одинаковые буквы считаются за одну."
   ]
  },
  {
   "cell_type": "code",
   "execution_count": 7,
   "metadata": {},
   "outputs": [
    {
     "data": {
      "text/plain": [
       "(1980, 233, 233, 296, 296)"
      ]
     },
     "execution_count": 7,
     "metadata": {},
     "output_type": "execute_result"
    }
   ],
   "source": [
    "def score(w, ignore='', checkplace=True):\n",
    "    \"\"\"\n",
    "    ignore     : строка с метками для каждой буквы с слове\n",
    "    checkplace : при подсчете рейтинга учитывается место буквы. Например встречаемость буквы й в зависимости от места: [0, 1, 38, 8, 50]\n",
    "    \"\"\"\n",
    "    if ignore == '': ignore = '_'*len(w)\n",
    "    s=0\n",
    "    for i in range(len(w)):\n",
    "        if ignore[i] not in alphabet: # вместо буквы находится символ, значит буква учавствует в подсчете\n",
    "            if not checkplace:\n",
    "                s += sorted_dict[w[i]]//w.count(w[i])\n",
    "            else:\n",
    "                s += letterplaces[w[i]][i]//w.count(w[i])\n",
    "    return s\n",
    "\n",
    "\n",
    "(score('попка'), score('попка','_о_ка'), (letterplaces['п'][0] + letterplaces['п'][2]) // 2, sum(letterplaces['п'])//2, sorted_dict['п']//2) # 2054, 244=244, 308=308\n",
    " "
   ]
  },
  {
   "cell_type": "markdown",
   "metadata": {
    "extensions": {
     "jupyter_dashboards": {
      "activeView": "grid_default",
      "views": {
       "grid_default": {
        "col": null,
        "height": 2,
        "hidden": true,
        "row": null,
        "width": 2
       }
      }
     }
    }
   },
   "source": [
    "Теперь можно посчитать рейтинг всех слов и найти слова с самыми используемыми буквами"
   ]
  },
  {
   "cell_type": "code",
   "execution_count": 8,
   "metadata": {
    "tags": []
   },
   "outputs": [],
   "source": [
    "sortedscore, sortedwords = list(zip(*sorted(zip([score(w) for w in words], words), reverse=True)))"
   ]
  },
  {
   "cell_type": "code",
   "execution_count": 9,
   "metadata": {
    "tags": []
   },
   "outputs": [
    {
     "name": "stdout",
     "output_type": "stream",
     "text": [
      "порка 2491\n",
      "солка 2415\n",
      "полка 2384\n",
      "парок 2382\n",
      "серка 2354\n",
      "сотка 2322\n",
      "пурка 2314\n",
      "дорка 2313\n",
      "горка 2310\n",
      "норка 2289\n"
     ]
    }
   ],
   "source": [
    "for a, b in zip(sortedwords[:10], sortedscore[:10]):\n",
    "    print(a,b)"
   ]
  },
  {
   "cell_type": "markdown",
   "metadata": {},
   "source": [
    "Начинать игру надо со слова \"порка\". А если бы местоположение букв не учитывалось, это был бы \"коран\" или \"норка\". Ну и ради интереса выведем список 10 самых неудачных для начала игры слов."
   ]
  },
  {
   "cell_type": "code",
   "execution_count": 10,
   "metadata": {
    "tags": []
   },
   "outputs": [
    {
     "name": "stdout",
     "output_type": "stream",
     "text": [
      "умище 331\n",
      "рэгги 324\n",
      "дзюдо 322\n",
      "овощи 320\n",
      "уздцы 319\n",
      "акажу 260\n",
      "имидж 255\n",
      "жмыхи 240\n",
      "удэге 199\n",
      "удэхе 172\n"
     ]
    }
   ],
   "source": [
    "for a, b in zip(sortedwords[-10:], sortedscore[-10:]):\n",
    "    print(a,b)"
   ]
  },
  {
   "cell_type": "markdown",
   "metadata": {},
   "source": [
    "Удэге/удэхе?"
   ]
  },
  {
   "cell_type": "markdown",
   "metadata": {},
   "source": [
    "Просто так, выведем встречаемость симовов в зависимости от места"
   ]
  },
  {
   "cell_type": "code",
   "execution_count": 11,
   "metadata": {
    "tags": []
   },
   "outputs": [
    {
     "name": "stdout",
     "output_type": "stream",
     "text": [
      "с:1.96%  а:4.08%  р:2.33%  о:2.84%  а:4.80%  \n",
      "п:1.79%  о:2.99%  л:1.74%  а:2.14%  к:2.13%  \n",
      "к:1.74%  е:2.06%  т:1.22%  и:2.14%  н:1.52%  \n",
      "б:1.16%  у:2.01%  н:1.16%  е:1.91%  т:1.30%  \n",
      "м:1.14%  и:1.83%  а:0.97%  к:1.86%  р:1.18%  \n",
      "о:1.11%  р:1.25%  м:0.97%  н:1.14%  ь:1.07%  \n",
      "т:1.09%  л:0.77%  с:0.95%  у:0.95%  с:0.85%  \n",
      "в:1.06%  т:0.72%  е:0.91%  л:0.87%  о:0.85%  \n",
      "л:0.86%  ы:0.56%  и:0.84%  р:0.80%  я:0.81%  \n",
      "р:0.85%  к:0.43%  к:0.84%  т:0.67%  л:0.56%  \n",
      "д:0.80%  б:0.36%  п:0.80%  с:0.51%  д:0.51%  \n",
      "г:0.78%  с:0.36%  б:0.78%  д:0.42%  и:0.50%  \n",
      "а:0.71%  н:0.35%  д:0.78%  м:0.41%  й:0.47%  \n",
      "ш:0.67%  в:0.30%  в:0.70%  в:0.35%  ц:0.43%  \n",
      "н:0.67%  п:0.27%  о:0.69%  я:0.30%  м:0.35%  \n",
      "з:0.59%  м:0.26%  з:0.62%  з:0.29%  в:0.30%  \n",
      "ф:0.57%  я:0.24%  г:0.53%  г:0.29%  е:0.29%  \n",
      "х:0.45%  ю:0.23%  ч:0.40%  ы:0.27%  г:0.28%  \n",
      "ч:0.40%  з:0.23%  у:0.40%  б:0.26%  з:0.27%  \n",
      "у:0.36%  г:0.15%  ш:0.39%  ь:0.24%  п:0.23%  \n",
      "и:0.32%  д:0.12%  ж:0.38%  п:0.20%  х:0.22%  \n",
      "ж:0.27%  х:0.07%  й:0.37%  ш:0.18%  ы:0.21%  \n",
      "ц:0.15%  ж:0.07%  х:0.32%  ц:0.18%  ч:0.20%  \n",
      "э:0.15%  ш:0.06%  ф:0.23%  ю:0.14%  ш:0.19%  \n",
      "я:0.12%  ф:0.05%  ы:0.16%  ч:0.14%  б:0.18%  \n",
      "ю:0.08%  э:0.04%  я:0.15%  х:0.14%  ж:0.15%  \n",
      "е:0.08%  й:0.03%  ц:0.13%  ж:0.13%  ф:0.10%  \n",
      "щ:0.07%  ь:0.03%  ю:0.10%  ф:0.08%  у:0.04%  \n",
      "й:0.00%  щ:0.02%  щ:0.08%  щ:0.07%  ю:0.01%  \n",
      "ё:0.00%  ч:0.02%  ь:0.04%  й:0.07%  э:0.01%  \n",
      "ъ:0.00%  ц:0.01%  э:0.03%  ъ:0.00%  ъ:0.00%  \n",
      "ы:0.00%  ъ:0.01%  ъ:0.01%  ё:0.00%  щ:0.00%  \n",
      "ь:0.00%  ё:0.00%  ё:0.00%  э:0.00%  ё:0.00%  \n"
     ]
    }
   ],
   "source": [
    "import numpy as np\n",
    "data = np.array(list(letterplaces.values()))\n",
    "sortedindexes = np.argsort(data, axis=0)[::-1,:]\n",
    "\n",
    "total = data.sum() # или len(words)*5\n",
    "\n",
    "for lindexes in sortedindexes:\n",
    "    for i, lindex in enumerate(lindexes):\n",
    "        letter = alphabet[lindex]\n",
    "        print(f'{letter}:{letterplaces[letter][i]/total:.2%}  ', end='')\n",
    "    print()\n"
   ]
  },
  {
   "cell_type": "markdown",
   "metadata": {},
   "source": [
    "И, наконец, попробуем найти наиболее оптимальную последовательность слов, что бы охватить наиболее встречаемые на своих местах буквы"
   ]
  },
  {
   "cell_type": "code",
   "execution_count": 12,
   "metadata": {
    "tags": []
   },
   "outputs": [
    {
     "name": "stdout",
     "output_type": "stream",
     "text": [
      "порка 2491\n",
      "салон 2195\n",
      "бутик 1568\n",
      "кенар 1499\n",
      "видео 1163\n",
      "грант 987\n",
      "отель 849\n",
      "люпус 666\n",
      "амбре 514\n",
      "рэгги 324\n"
     ]
    }
   ],
   "source": [
    "parsedletters = ['']*5\n",
    "for s, w in zip(sortedscore, sortedwords):\n",
    "    flag = True\n",
    "    for i, l in enumerate(w):\n",
    "        if l in parsedletters[i]:\n",
    "            flag = False\n",
    "            break\n",
    "    \n",
    "    if flag: # слово подходит\n",
    "        for i, l in enumerate(w):\n",
    "            parsedletters[i] = parsedletters[i] + l\n",
    "        print(w, s)\n"
   ]
  },
  {
   "cell_type": "markdown",
   "metadata": {},
   "source": [
    "Осталось объявить несколько вспомогательных функций"
   ]
  },
  {
   "cell_type": "code",
   "execution_count": 13,
   "metadata": {
    "extensions": {
     "jupyter_dashboards": {
      "activeView": "grid_default",
      "views": {
       "grid_default": {
        "col": null,
        "height": 2,
        "hidden": true,
        "row": null,
        "width": 2
       }
      }
     }
    }
   },
   "outputs": [
    {
     "name": "stdout",
     "output_type": "stream",
     "text": [
      "+****\n",
      "('пра', {'к': [3]}, '_о___')\n",
      "('прлая', {'к': [3, 0]}, '_о_е_')\n"
     ]
    }
   ],
   "source": [
    "# проверка слова, как это присходит в игре\n",
    "def checkword(rightword, testword):\n",
    "    result=''\n",
    "    for rl, tl in zip(rightword, testword):\n",
    "        if tl not in rightword:\n",
    "            result = result + '-'\n",
    "        else:\n",
    "            if tl==rl:\n",
    "                result = result + '+'\n",
    "            else:\n",
    "                result = result + '*'\n",
    "    return result\n",
    "\n",
    "print(checkword('крона', 'коран'))\n",
    "\n",
    "# разбор результата проверки с записью в соответствующие переменные\n",
    "def scanresults(testword, result, wrongletters='', wrongplaces={}, rightplaces=''):\n",
    "    if rightplaces=='': rightplaces = '_' * len(testword)\n",
    "    for r,i in zip(result, range(len(testword))):\n",
    "        # print (r,i)\n",
    "        l = testword[i]\n",
    "        if (r=='-'):\n",
    "            wrongletters = ''.join(set(wrongletters) | set(l))\n",
    "        elif (r=='*'):\n",
    "            wrongplaces[l] = wrongplaces.get(l,[]) + [i]\n",
    "        else:\n",
    "            t = list(rightplaces)\n",
    "            t[i] = l\n",
    "            rightplaces = ''.join(t)\n",
    "    return (wrongletters, wrongplaces, rightplaces)\n",
    "\n",
    "print(scanresults('порка','-+-*-'))\n",
    "print(scanresults('колея','*+-+-','пра', {'к': [3]}, '_о___'))"
   ]
  },
  {
   "cell_type": "code",
   "execution_count": 14,
   "metadata": {
    "extensions": {
     "jupyter_dashboards": {
      "activeView": "grid_default",
      "views": {
       "grid_default": {
        "col": null,
        "height": 2,
        "hidden": true,
        "row": null,
        "width": 2
       }
      }
     }
    }
   },
   "outputs": [],
   "source": [
    "# вывод списка слов, удовлетворяющих условиям\n",
    "def predictwords(wrongletters, wrongplaces, rightplaces, wordsarray):\n",
    "    goodwords = []\n",
    "    for w in wordsarray:\n",
    "        badwordflag = False\n",
    "        \n",
    "        # 1) в слове должны быть найденные буквы в нужных местах\n",
    "        for i in range(len(rightplaces)):\n",
    "            if (rightplaces[i] != '_') & (rightplaces[i] != w[i]):\n",
    "                badwordflag = True\n",
    "                break\n",
    "        if badwordflag: continue\n",
    "        \n",
    "        # 2) в слове не должно быть отсутствующих букв\n",
    "        for l in w:\n",
    "            if l in wrongletters:\n",
    "                badwordflag = True\n",
    "                break\n",
    "        if badwordflag: continue\n",
    "        \n",
    "        # 3) в слове должны быть неправильно расположенные буквы\n",
    "        # 4) в слове неправильно расположенные буквы не должны быть на неправильных местах\n",
    "        for l in list(wrongplaces.keys()):\n",
    "            if l not in w: # неправильно расположенные буквы должны быть в слове (странно, да?)\n",
    "                badwordflag = True\n",
    "                break\n",
    "            else:\n",
    "                for i in range(len(w)):\n",
    "                    if (l == w[i]) & (i in wrongplaces[l]): # если место буквы в слове есть в списке \"плохих\" мест\n",
    "                        badwordflag = True\n",
    "                        break\n",
    "        if badwordflag: continue\n",
    "        \n",
    "        # переехало в цикл к условию 3)\n",
    "        # for l in list(wrongplaces.keys()):\n",
    "        #     if l not in w:\n",
    "        #         badwordflag = True\n",
    "        #         break\n",
    "        # if badwordflag: continue\n",
    "        goodwords += [w]\n",
    "    return goodwords    "
   ]
  },
  {
   "cell_type": "markdown",
   "metadata": {},
   "source": [
    "Посчитаем, сколько нужно ходов для угадывания каждого слова. Объявим функцию, которая делает одну итерацию игры."
   ]
  },
  {
   "cell_type": "code",
   "execution_count": 15,
   "metadata": {},
   "outputs": [],
   "source": [
    "def oneturn(secret, tryword, wrongletters='', wrongplaces={}, rightplaces='', checkplace=True):\n",
    "    # проверяем слово, разбираем результат\n",
    "    (wrongletters, wrongplaces, rightplaces) = scanresults(tryword, checkword(secret, tryword), wrongletters, wrongplaces, rightplaces)\n",
    "    # ищем слова, подходящие по условиям\n",
    "    nextwords = predictwords(wrongletters, wrongplaces, rightplaces, words)\n",
    "    if(len(nextwords)==1):\n",
    "        return ('', wrongletters, wrongplaces, rightplaces)\n",
    "    else:\n",
    "        # подсчитаем рейтинг найденных слов\n",
    "        scorelist=[[w, score(w, rightplaces, checkplace)] for w in nextwords]\n",
    "        newwords=sorted(scorelist,key=lambda x: x[1],reverse=True)\n",
    "        return(newwords[0][0], wrongletters, wrongplaces, rightplaces) # вернем слово с самым большым рейтингом"
   ]
  },
  {
   "cell_type": "markdown",
   "metadata": {},
   "source": [
    "Погнали! Сначала посчитаем ходы с учетом местоположения букв в слове (слова с буквами, расопложенными на \"популярных\" для этой буквы местах оцениваются выше)"
   ]
  },
  {
   "cell_type": "code",
   "execution_count": 16,
   "metadata": {
    "tags": []
   },
   "outputs": [
    {
     "name": "stdout",
     "output_type": "stream",
     "text": [
      "CPU times: total: 24.5 s\n",
      "Wall time: 24.4 s\n"
     ]
    },
    {
     "data": {
      "text/plain": [
       "3619"
      ]
     },
     "execution_count": 16,
     "metadata": {},
     "output_type": "execute_result"
    }
   ],
   "source": [
    "%%time\n",
    "turnswithcheckplace=[]\n",
    "for w in words:\n",
    "    wrongletters=''; wrongplaces={}; rightplaces=''\n",
    "    newword='порка'\n",
    "    counter=0\n",
    "    while newword != '':\n",
    "        counter+=1\n",
    "        if counter>10: break\n",
    "        (newword, wrongletters, wrongplaces, rightplaces) = oneturn(w, newword, wrongletters, wrongplaces, rightplaces, True)\n",
    "    turnswithcheckplace += [counter]\n",
    "#         print(f'Следущее слово: {newword}')\n",
    "\n",
    "len(turnswithcheckplace)"
   ]
  },
  {
   "cell_type": "markdown",
   "metadata": {},
   "source": [
    "4,88 с на Intel Core i7 870 @2.93Ggz  \n",
    "42,2 с на Phenom II X4 960T @3Ggz - какая-то ошибка в установленном питоне, не может быть такая разница  \n",
    "26,7 с на Intel Core i5-12400 @2.50 GHz - тут тоже, похоже, что-то не так (правда слов стало больше)"
   ]
  },
  {
   "cell_type": "markdown",
   "metadata": {},
   "source": [
    "А теперь без учета местоположения букв"
   ]
  },
  {
   "cell_type": "code",
   "execution_count": 17,
   "metadata": {
    "tags": []
   },
   "outputs": [
    {
     "name": "stdout",
     "output_type": "stream",
     "text": [
      "CPU times: total: 24.8 s\n",
      "Wall time: 24.8 s\n"
     ]
    },
    {
     "data": {
      "text/plain": [
       "3619"
      ]
     },
     "execution_count": 17,
     "metadata": {},
     "output_type": "execute_result"
    }
   ],
   "source": [
    "%%time\n",
    "turnswithoutcheckplace=[]\n",
    "for w in words:\n",
    "    wrongletters=''; wrongplaces={}; rightplaces=''\n",
    "    newword='порка'\n",
    "    counter=0\n",
    "    while newword != '':\n",
    "        counter+=1\n",
    "        if counter>10: break\n",
    "        (newword, wrongletters, wrongplaces, rightplaces) = oneturn(w, newword, wrongletters, wrongplaces, rightplaces, False)\n",
    "    turnswithoutcheckplace += [counter]\n",
    "#         print(f'Следущее слово: {newword}')\n",
    "\n",
    "len(turnswithcheckplace)"
   ]
  },
  {
   "cell_type": "markdown",
   "metadata": {},
   "source": [
    "4,72 с на Intel Core i7 870 @2.93Ggz  \n",
    "43,5 с на Phenom II X4 960T @3Ggz"
   ]
  },
  {
   "cell_type": "markdown",
   "metadata": {},
   "source": [
    "Попробуем использовать pandas, seaborn и построим наглядные гистограммы"
   ]
  },
  {
   "cell_type": "code",
   "execution_count": 18,
   "metadata": {},
   "outputs": [
    {
     "name": "stderr",
     "output_type": "stream",
     "text": [
      "C:\\Users\\user\\miniconda3\\envs\\jupyterenv\\lib\\site-packages\\seaborn\\_oldcore.py:1498: FutureWarning: is_categorical_dtype is deprecated and will be removed in a future version. Use isinstance(dtype, CategoricalDtype) instead\n",
      "  if pd.api.types.is_categorical_dtype(vector):\n",
      "C:\\Users\\user\\miniconda3\\envs\\jupyterenv\\lib\\site-packages\\seaborn\\_oldcore.py:1498: FutureWarning: is_categorical_dtype is deprecated and will be removed in a future version. Use isinstance(dtype, CategoricalDtype) instead\n",
      "  if pd.api.types.is_categorical_dtype(vector):\n",
      "C:\\Users\\user\\miniconda3\\envs\\jupyterenv\\lib\\site-packages\\seaborn\\_oldcore.py:1498: FutureWarning: is_categorical_dtype is deprecated and will be removed in a future version. Use isinstance(dtype, CategoricalDtype) instead\n",
      "  if pd.api.types.is_categorical_dtype(vector):\n",
      "C:\\Users\\user\\miniconda3\\envs\\jupyterenv\\lib\\site-packages\\seaborn\\_oldcore.py:1498: FutureWarning: is_categorical_dtype is deprecated and will be removed in a future version. Use isinstance(dtype, CategoricalDtype) instead\n",
      "  if pd.api.types.is_categorical_dtype(vector):\n"
     ]
    },
    {
     "data": {
      "image/png": "[encoded data removed]",
      "text/plain": [
       "<Figure size 640x480 with 1 Axes>"
      ]
     },
     "metadata": {},
     "output_type": "display_data"
    }
   ],
   "source": [
    "# import numpy as np\n",
    "import pandas as pd\n",
    "# import matplotlib.pyplot as plt\n",
    "import seaborn as sns\n",
    "\n",
    "# соберем датафрейм (а парную гистограмму можно отобразить без использования pandas)\n",
    "df = pd.DataFrame({ 'turns': turnswithoutcheckplace + turnswithcheckplace, \n",
    "                    'check': [False]*len(words) + [True]*len(words)})\n",
    "\n",
    "# две гистограммы рядом\n",
    "# _, axes = plt.subplots(1, 2, sharey=True, figsize=(15, 5))\n",
    "# axes[0].set_title(f\"withoutcheckplace (mean={statistics.mean(turnswithoutcheckplace)})\")\n",
    "# axes[1].set_title(f\"withcheckplace (mean={statistics.mean(turnswithcheckplace)})\")\n",
    "# sns.histplot(turnswithoutcheckplace, ax=axes[0])\n",
    "# sns.histplot(turnswithcheckplace, ax=axes[1])\n",
    "\n",
    "# слишком тонкие прямоугольники\n",
    "# sns.histplot(x='turns', data=df, hue='check',alpha=0.5, multiple='dodge') \n",
    "\n",
    "# красиво, но метки внизу смещены относительно столбцов\n",
    "# plt.hist([turnswithoutcheckplace, turnswithcheckplace]);\n",
    "\n",
    "sns.countplot(x='turns',hue='check',data=df);\n",
    "\n",
    "# выводит предупреждение, не знаю, как от него избавиться\n",
    "# C:\\Users\\user\\miniconda3\\envs\\jupyterenv\\lib\\site-packages\\seaborn\\_oldcore.py:1498: FutureWarning: is_categorical_dtype is deprecated and will be removed in a future version. Use isinstance(dtype, CategoricalDtype) instead\n",
    "\n"
   ]
  },
  {
   "cell_type": "markdown",
   "metadata": {},
   "source": [
    "Выводы, которые можно сделать из графика:\n",
    "1) Учет местоположения буквы не даёт выигрыш в числе попыток.  \n",
    "2) Есть такие слова, которые не отгадать за 6 ходов, используя выбранную стратегию. Найдем их"
   ]
  },
  {
   "cell_type": "code",
   "execution_count": 30,
   "metadata": {},
   "outputs": [
    {
     "name": "stdout",
     "output_type": "stream",
     "text": [
      "алчба: 7 5\n",
      "алыча: 7 5\n",
      "бабка: 5 8\n",
      "байка: 6 8\n",
      "башка: 6 7\n",
      "бейка: 5 7\n",
      "бобок: 6 7\n",
      "божок: 6 7\n",
      "вошка: 7 7\n",
      "вояка: 7 7\n",
      "гагра: 6 7\n",
      "гайка: 7 8\n",
      "давка: 6 7\n",
      "дачка: 6 7\n",
      "дойка: 7 6\n",
      "дошка: 7 5\n",
      "дудка: 8 8\n",
      "дужка: 8 8\n",
      "дурка: 6 7\n",
      "душка: 7 7\n",
      "жабра: 5 7\n",
      "жамка: 6 8\n",
      "жесть: 7 7\n",
      "журка: 8 9\n",
      "жучка: 7 8\n",
      "зайка: 8 5\n",
      "качка: 6 7\n",
      "кашка: 6 7\n",
      "койка: 7 6\n",
      "кошка: 7 5\n",
      "кучка: 6 7\n",
      "лайка: 7 7\n",
      "лачка: 7 7\n",
      "ляжка: 7 7\n",
      "ляшка: 7 7\n",
      "мамка: 6 7\n",
      "рейка: 7 5\n",
      "решка: 7 4\n",
      "фабра: 5 7\n",
      "фишка: 7 7\n",
      "хамка: 6 8\n",
      "цацка: 7 8\n",
      "чайка: 8 8\n",
      "чашка: 6 8\n",
      "честь: 7 7\n",
      "чижик: 7 5\n",
      "чуйка: 7 8\n",
      "чурка: 7 8\n",
      "чушка: 7 8\n",
      "шавка: 6 8\n",
      "шайка: 7 8\n",
      "шашка: 7 8\n",
      "шейка: 5 7\n",
      "шизик: 7 5\n",
      "шишка: 7 7\n",
      "шлюха: 7 6\n",
      "щурка: 8 9\n",
      "щучка: 7 8\n",
      "эльба: 7 6\n"
     ]
    }
   ],
   "source": [
    "for w, turnswith, turnswithout in zip(words, turnswithcheckplace, turnswithoutcheckplace ):\n",
    "    if (turnswith>6) | (turnswithout>6):\n",
    "        print(f\"{w}: {turnswith} {turnswithout}\")"
   ]
  },
  {
   "cell_type": "code",
   "execution_count": 38,
   "metadata": {
    "tags": []
   },
   "outputs": [
    {
     "name": "stdout",
     "output_type": "stream",
     "text": [
      "Количество слов, которые не угадать за 6 ходов\n",
      "  без учёта местоположения буквы : 46\n",
      "  с учётом местоположения буквы  : 38"
     ]
    }
   ],
   "source": [
    "print(f'Количество слов, которые не угадать за 6 ходов\\n  без учёта местоположения буквы : {sum([t > 6 for t in turnswithoutcheckplace])}')\n",
    "print(f'  с учётом местоположения буквы  : {sum([t > 6 for t in turnswithcheckplace])}', end='')"
   ]
  },
  {
   "cell_type": "markdown",
   "metadata": {},
   "source": [
    "Вот и все. Без учета местоположения буквы неугадываемых за 6 ходов слов меньше, чем с учетом.  \n",
    "\n",
    "Судя по гистограмме, есть слова, которые угадываются на второй ход. Посмотрим на них."
   ]
  },
  {
   "cell_type": "code",
   "execution_count": 39,
   "metadata": {},
   "outputs": [
    {
     "name": "stdout",
     "output_type": "stream",
     "text": [
      "['апрош', 'капор', 'каппа', 'кобра', 'копир', 'копна', 'копра', 'коран', 'крупа', 'манко', 'парик', 'парок', 'паром', 'пивко', 'пикша', 'пирке', 'пирок', 'покер', 'порка', 'порок', 'порча', 'право', 'прыск', 'пункт', 'репка', 'ройка', 'ропак', 'серко', 'скопа', 'скрап', 'толпа', 'топаз', 'укроп']\n"
     ]
    }
   ],
   "source": [
    "print([w for w, t in zip(words, turnswithcheckplace) if t == 1])"
   ]
  },
  {
   "cell_type": "markdown",
   "metadata": {},
   "source": [
    "Посмотрим, сколько ходов нужно сделать, что бы угадать слово \"чайка\""
   ]
  },
  {
   "cell_type": "code",
   "execution_count": 44,
   "metadata": {},
   "outputs": [
    {
     "name": "stdout",
     "output_type": "stream",
     "text": [
      "порка\t---++\t___ка\t166\n",
      "силка\t---++\t___ка\t90\n",
      "метка\t---++\t___ка\t41\n",
      "банка\t-+-++\t_а_ка\t13\n",
      "кадка\t*+-++\t_а_ка\t8\n",
      "шавка\t-+-++\t_а_ка\t4\n",
      "гайка\t-++++\t_айка\t2\n",
      "зайка\t-++++\t_айка\t1\n",
      "чайка\n"
     ]
    }
   ],
   "source": [
    "tryword = 'порка'\n",
    "secret = 'чайка'\n",
    "wrongletters=''; wrongplaces={}; rightplaces=''\n",
    "i = 0\n",
    "\n",
    "while i < 10:\n",
    "    i += 1\n",
    "    checkresult = checkword(secret, tryword)\n",
    "    (wrongletters, wrongplaces, rightplaces) = scanresults(tryword, checkresult, wrongletters, wrongplaces, rightplaces)\n",
    "    nextwords = predictwords(wrongletters, wrongplaces, rightplaces, words)\n",
    "    print(f'{tryword}\\t{checkresult}\\t{rightplaces}\\t{len(nextwords)}')\n",
    "    if(len(nextwords)==1):\n",
    "        print(nextwords[0])\n",
    "        break\n",
    "    else:\n",
    "        scorelist=[[w, score(w, rightplaces)] for w in nextwords]\n",
    "        newwords=sorted(scorelist,key=lambda x: x[1],reverse=True)\n",
    "        tryword=newwords[0][0]\n"
   ]
  },
  {
   "cell_type": "markdown",
   "metadata": {},
   "source": [
    "А теперь забубеним мега-функцию, которая на основании предыдущих попыток предлагает новое слово"
   ]
  },
  {
   "cell_type": "code",
   "execution_count": 23,
   "metadata": {},
   "outputs": [],
   "source": [
    "def predictnextword(attempts):\n",
    "    wrongletters = ''\n",
    "    wrongplaces = {}\n",
    "    rightplaces = ''\n",
    "\n",
    "    # разберем попытки   \n",
    "    for tryword, result in attempts:\n",
    "        wrongletters, wrongplaces, rightplaces = scanresults(tryword, result, wrongletters, wrongplaces, rightplaces)\n",
    "    \n",
    "    nextwords = predictwords(wrongletters, wrongplaces, rightplaces, words)\n",
    "    scorelist=[[w, score(w, rightplaces)] for w in nextwords]\n",
    "    newwords=sorted(scorelist, key=lambda x: x[1], reverse=True)\n",
    "    return f\"{min(10,len(newwords))} из {len(newwords)}:\", newwords[:10]"
   ]
  },
  {
   "cell_type": "code",
   "execution_count": 24,
   "metadata": {
    "tags": []
   },
   "outputs": [
    {
     "data": {
      "text/plain": [
       "('7 из 7:',\n",
       " [['заика', 258],\n",
       "  ['шайка', 188],\n",
       "  ['зайка', 173],\n",
       "  ['чашка', 142],\n",
       "  ['чайка', 139],\n",
       "  ['шашка', 95],\n",
       "  ['цацка', 25]])"
      ]
     },
     "execution_count": 24,
     "metadata": {},
     "output_type": "execute_result"
    }
   ],
   "source": [
    "predictnextword([['порка','---++'],['белка','---++'],['самка','-+-++'],['ватка','-+-++'],['ганка','-+-++'],['кадка','*+-++']])   "
   ]
  },
  {
   "cell_type": "code",
   "execution_count": null,
   "metadata": {},
   "outputs": [],
   "source": []
  }
 ],
 "metadata": {
  "extensions": {
   "jupyter_dashboards": {
    "activeView": "grid_default",
    "version": 1,
    "views": {
     "grid_default": {
      "cellMargin": 2,
      "defaultCellHeight": 60,
      "maxColumns": 12,
      "name": "grid",
      "type": "grid"
     }
    }
   }
  },
  "kernelspec": {
   "display_name": "Python 3 (ipykernel)",
   "language": "python",
   "name": "python3"
  },
  "language_info": {
   "codemirror_mode": {
    "name": "ipython",
    "version": 3
   },
   "file_extension": ".py",
   "mimetype": "text/x-python",
   "name": "python",
   "nbconvert_exporter": "python",
   "pygments_lexer": "ipython3",
   "version": "3.10.13"
  }
 },
 "nbformat": 4,
 "nbformat_minor": 4
}
