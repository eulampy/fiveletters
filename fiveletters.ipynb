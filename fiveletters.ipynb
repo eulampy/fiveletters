{
 "cells": [
  {
   "cell_type": "markdown",
   "metadata": {
    "extensions": {
     "jupyter_dashboards": {
      "activeView": "grid_default",
      "views": {
       "grid_default": {
        "col": null,
        "height": 2,
        "hidden": true,
        "row": null,
        "width": 2
       }
      }
     }
    },
    "tags": []
   },
   "source": [
    "# Игра \"5 Букв\"\n",
    "Тинькофф перезапустил игру \"5 букв\", в которой нужно отгадывать слова. Вам нужно набрать существительное из пяти букв, система покажет какие буквы этого слова есть в загаданном слове, на основе этой информации вы должны отгадать слово за несколько попыток.  \n",
    "Для призов банк подготовил скидки, кэшбэки и др. Например, за 60 слов можно получить 50%-й кэшбэк в Ozon.\n",
    "Играем в игру из приложения Тиньков банка \"5 букв\".  Правила игры похожи на игру Wordle.\n",
    "<div>\n",
    "<img src=\"game.jpeg\" width=\"200\"/>\n",
    "</div>   \n",
    "Попробуем придумать какую-нибудь стратегию для выигрыша."
   ]
  },
  {
   "cell_type": "markdown",
   "metadata": {},
   "source": [
    "Для нашей игры прочитаем список слов, которые:\n",
    "* состоят из 5 букв\n",
    "* не содержат символы не из алфавита (дефисы, английские буквы)\n",
    "* не начинаются с заглавной буквы  \n",
    "\n",
    "Исходный файл *nouns.csv* взят с гитхаба [https://github.com/Badestrand/russian-dictionary] (Creative Commons Attribution Share Alike 4.0)"
   ]
  },
  {
   "cell_type": "code",
   "execution_count": 1,
   "metadata": {
    "tags": []
   },
   "outputs": [
    {
     "data": {
      "text/plain": [
       "(['аарон',\n",
       "  'аббат',\n",
       "  'абвер',\n",
       "  'абзац',\n",
       "  'аборт',\n",
       "  'абрек',\n",
       "  'абрис',\n",
       "  'абхаз',\n",
       "  'аванс',\n",
       "  'авгур'],\n",
       " 2593)"
      ]
     },
     "execution_count": 1,
     "metadata": {},
     "output_type": "execute_result"
    }
   ],
   "source": [
    "words = []\n",
    "with open('nouns.txt', encoding='utf-8') as file:\n",
    "    words = [w.strip() for w in file.readlines()]\n",
    "words.sort()\n",
    "(words[:10], len(words))"
   ]
  },
  {
   "cell_type": "markdown",
   "metadata": {},
   "source": [
    "Что насчет дубликатов?"
   ]
  },
  {
   "cell_type": "code",
   "execution_count": 2,
   "metadata": {},
   "outputs": [
    {
     "name": "stdout",
     "output_type": "stream",
     "text": [
      "Дубликатов нет\n"
     ]
    }
   ],
   "source": [
    "dwords = ([w for w in words if words.count(w)>1])\n",
    "if len(set(dwords))==0:\n",
    "    print(\"Дубликатов нет\")\n",
    "else:\n",
    "    print(f'Найдены дубликаты: {set(dwords)}')\n",
    "    words=list(set(words))"
   ]
  },
  {
   "cell_type": "markdown",
   "metadata": {
    "extensions": {
     "jupyter_dashboards": {
      "activeView": "grid_default",
      "views": {
       "grid_default": {
        "col": null,
        "height": 2,
        "hidden": true,
        "row": null,
        "width": 2
       }
      }
     }
    }
   },
   "source": [
    "Cоберем статистику по буквам"
   ]
  },
  {
   "cell_type": "code",
   "execution_count": 3,
   "metadata": {
    "extensions": {
     "jupyter_dashboards": {
      "activeView": "grid_default",
      "views": {
       "grid_default": {
        "col": null,
        "height": 2,
        "hidden": true,
        "row": null,
        "width": 2
       }
      }
     }
    }
   },
   "outputs": [
    {
     "name": "stdout",
     "output_type": "stream",
     "text": [
      "символы не в словаре: \n",
      "Буквы, отсортированные по степени встречаемости: аокретилнсупмвбдзгьяшчыхжфйцющэъ\n"
     ]
    }
   ],
   "source": [
    "# соберем статистику по буквам\n",
    "# а теперь посмотрим, на каких местах каждая буква встречается чаще\n",
    "alphabet='абвгдеёжзийклмнопрстуфхцчшщъыьэюя' # буква 'ё' по правилам игры заменяется на 'е'\n",
    "dict={}\n",
    "wrongletters = ''\n",
    "for w in words:\n",
    "    for l in w:\n",
    "        if l in alphabet:\n",
    "            dict[l] = dict.get(l, 0) + 1\n",
    "        else:\n",
    "            if l not in wrongletters:\n",
    "                wrongletters += l\n",
    "print(f\"символы не в словаре: {wrongletters}\")\n",
    "sorted_tuples = sorted(dict.items(), key=lambda x: x[1],reverse=True)\n",
    "sorted_dict = {k: v for k, v in sorted_tuples}\n",
    "mostusedletters = \"\".join(list(sorted_dict.keys()))\n",
    "print(f\"Буквы, отсортированные по степени встречаемости: {mostusedletters}\")"
   ]
  },
  {
   "cell_type": "code",
   "execution_count": 4,
   "metadata": {},
   "outputs": [],
   "source": [
    "# а теперь посмотрим, на каких местах каждая буква встречается чаще\n",
    "letterplaces={k: [0]*5 for k in alphabet}\n",
    "for w in words:\n",
    "    for l,i in zip(w,range(5)):        \n",
    "        letterplaces[l][i] += 1\n",
    "\n",
    "# letterplaces = {k:[l/sum(letterplaces[k]) for l in letterplaces[k]] for k in letterplaces}  # нормируем места по буквам\n",
    "# sum([sum(letterplaces[k]) for k in letterplaces]) - len(letterplaces) # =0"
   ]
  },
  {
   "cell_type": "code",
   "execution_count": 5,
   "metadata": {
    "tags": []
   },
   "outputs": [
    {
     "data": {
      "text/plain": [
       "{'а': [97, 539, 129, 262, 643],\n",
       " 'б': [176, 43, 102, 32, 17],\n",
       " 'в': [150, 45, 96, 41, 41],\n",
       " 'г': [118, 17, 63, 37, 34],\n",
       " 'д': [103, 14, 104, 51, 75],\n",
       " 'е': [10, 301, 134, 288, 43],\n",
       " 'ё': [0, 0, 0, 0, 0],\n",
       " 'ж': [41, 4, 48, 17, 20],\n",
       " 'з': [91, 32, 80, 40, 32],\n",
       " 'и': [37, 215, 89, 249, 68],\n",
       " 'й': [0, 1, 38, 8, 50],\n",
       " 'к': [239, 53, 99, 267, 281],\n",
       " 'л': [110, 109, 239, 117, 72],\n",
       " 'м': [140, 33, 120, 52, 51],\n",
       " 'н': [97, 39, 155, 146, 173],\n",
       " 'о': [155, 404, 97, 375, 101],\n",
       " 'п': [235, 40, 93, 23, 22],\n",
       " 'р': [109, 167, 296, 95, 162],\n",
       " 'с': [245, 45, 133, 65, 104],\n",
       " 'т': [130, 97, 168, 92, 183],\n",
       " 'у': [41, 236, 47, 112, 4],\n",
       " 'ф': [53, 7, 25, 10, 16],\n",
       " 'х': [47, 9, 40, 21, 30],\n",
       " 'ц': [11, 1, 11, 17, 49],\n",
       " 'ч': [48, 4, 63, 20, 26],\n",
       " 'ш': [73, 4, 53, 22, 19],\n",
       " 'щ': [10, 3, 10, 6, 0],\n",
       " 'ъ': [0, 2, 2, 0, 0],\n",
       " 'ы': [0, 72, 17, 29, 31],\n",
       " 'ь': [0, 3, 6, 53, 141],\n",
       " 'э': [13, 6, 3, 0, 1],\n",
       " 'ю': [4, 20, 15, 15, 1],\n",
       " 'я': [10, 28, 18, 31, 103]}"
      ]
     },
     "execution_count": 5,
     "metadata": {},
     "output_type": "execute_result"
    }
   ],
   "source": [
    "letterplaces"
   ]
  },
  {
   "cell_type": "markdown",
   "metadata": {},
   "source": [
    "Для удобства объявим функцию подсчета \"рейтинга\" слова. Чем больше в слове часто встречающихся букв, тем лучше. Одинаковые буквы считаются за одну."
   ]
  },
  {
   "cell_type": "code",
   "execution_count": 6,
   "metadata": {},
   "outputs": [
    {
     "data": {
      "text/plain": [
       "(1477, 163, 164, 206, 206)"
      ]
     },
     "execution_count": 6,
     "metadata": {},
     "output_type": "execute_result"
    }
   ],
   "source": [
    "def score(w, ignore='', checkplace=True):\n",
    "    \"\"\"\n",
    "    ignore     : строка с метками для каждой буквы с слове\n",
    "    checkplace : при подсчете рейтинга учитывается место буквы. Например встречаемость буквы й в зависимости от места: [0, 1, 38, 8, 50]\n",
    "    \"\"\"\n",
    "    if ignore == '': ignore = '_'*len(w)\n",
    "    s=0\n",
    "    for i in range(len(w)):\n",
    "        if ignore[i] not in alphabet: # вместо буквы находится символ, значит буква учавствует в подсчете\n",
    "            if not checkplace:\n",
    "                s += sorted_dict[w[i]]//w.count(w[i])\n",
    "            else:\n",
    "                s += letterplaces[w[i]][i]//w.count(w[i])\n",
    "    return s\n",
    "\n",
    "\n",
    "(score('попка'), score('попка','_о_ка'), (letterplaces['п'][0] + letterplaces['п'][2]) // 2, sum(letterplaces['п'])//2, sorted_dict['п']//2) # 1477, 163=163, 206=206\n",
    " "
   ]
  },
  {
   "cell_type": "markdown",
   "metadata": {
    "extensions": {
     "jupyter_dashboards": {
      "activeView": "grid_default",
      "views": {
       "grid_default": {
        "col": null,
        "height": 2,
        "hidden": true,
        "row": null,
        "width": 2
       }
      }
     }
    }
   },
   "source": [
    "Теперь можно посчитать рейтинг всех слов и найти слова с самыми используемыми буквами"
   ]
  },
  {
   "cell_type": "code",
   "execution_count": 7,
   "metadata": {},
   "outputs": [
    {
     "data": {
      "text/plain": [
       "[['порка', 1845],\n",
       " ['солка', 1798],\n",
       " ['полка', 1788],\n",
       " ['перка', 1742],\n",
       " ['горка', 1728],\n",
       " ['сотка', 1727],\n",
       " ['парок', 1726],\n",
       " ['норка', 1707],\n",
       " ['сопка', 1652],\n",
       " ['мерка', 1647]]"
      ]
     },
     "execution_count": 7,
     "metadata": {},
     "output_type": "execute_result"
    }
   ],
   "source": [
    "scorelist=[[w, score(w)] for w in words]\n",
    "sorted(scorelist,key=lambda x: x[1],reverse=True)[:10]"
   ]
  },
  {
   "cell_type": "markdown",
   "metadata": {},
   "source": [
    "Начинать игру надо со слова \"порка\". А если бы местоположение букв не учитывалось, это был бы \"коран\" или \"норка\". Ну и ради интереса выведем список 10 самых неудачных для начала игры слов."
   ]
  },
  {
   "cell_type": "code",
   "execution_count": 8,
   "metadata": {},
   "outputs": [
    {
     "data": {
      "text/plain": [
       "[['изгиб', 254],\n",
       " ['уксус', 247],\n",
       " ['хиппи', 245],\n",
       " ['овощи', 244],\n",
       " ['извив', 242],\n",
       " ['рэгги', 232],\n",
       " ['уздцы', 225],\n",
       " ['дзюдо', 224],\n",
       " ['жмыхи', 180],\n",
       " ['имидж', 166]]"
      ]
     },
     "execution_count": 8,
     "metadata": {},
     "output_type": "execute_result"
    }
   ],
   "source": [
    "sorted(scorelist,key=lambda x: x[1],reverse=True)[-10:]"
   ]
  },
  {
   "cell_type": "markdown",
   "metadata": {},
   "source": [
    "Осталось объявить несколько вспомогательных функций"
   ]
  },
  {
   "cell_type": "code",
   "execution_count": 9,
   "metadata": {
    "extensions": {
     "jupyter_dashboards": {
      "activeView": "grid_default",
      "views": {
       "grid_default": {
        "col": null,
        "height": 2,
        "hidden": true,
        "row": null,
        "width": 2
       }
      }
     }
    }
   },
   "outputs": [
    {
     "name": "stdout",
     "output_type": "stream",
     "text": [
      "+****\n",
      "('апр', {'к': [3]}, '_о___')\n",
      "('яплар', {'к': [3, 0]}, '_о_е_')\n"
     ]
    }
   ],
   "source": [
    "# проверка слова, как это присходит в игре\n",
    "def checkword(rightword, testword):\n",
    "    result=''\n",
    "    for rl, tl in zip(rightword, testword):\n",
    "        if tl not in rightword:\n",
    "            result = result + '-'\n",
    "        else:\n",
    "            if tl==rl:\n",
    "                result = result + '+'\n",
    "            else:\n",
    "                result = result + '*'\n",
    "    return result\n",
    "\n",
    "print(checkword('крона', 'коран'))\n",
    "\n",
    "# разбор результата проверки с записью в соответствующие переменные\n",
    "def scanresults(testword, result, wrongletters='', wrongplaces={}, rightplaces=''):\n",
    "    if rightplaces=='': rightplaces = '_' * len(testword)\n",
    "    for r,i in zip(result, range(len(testword))):\n",
    "        # print (r,i)\n",
    "        l = testword[i]\n",
    "        if (r=='-'):\n",
    "            wrongletters = ''.join(set(wrongletters) | set(l))\n",
    "        elif (r=='*'):\n",
    "            wrongplaces[l] = wrongplaces.get(l,[]) + [i]\n",
    "        else:\n",
    "            t = list(rightplaces)\n",
    "            t[i] = l\n",
    "            rightplaces = ''.join(t)\n",
    "    return (wrongletters, wrongplaces, rightplaces)\n",
    "\n",
    "print(scanresults('порка','-+-*-'))\n",
    "print(scanresults('колея','*+-+-','пра', {'к': [3]}, '_о___'))"
   ]
  },
  {
   "cell_type": "code",
   "execution_count": 17,
   "metadata": {
    "extensions": {
     "jupyter_dashboards": {
      "activeView": "grid_default",
      "views": {
       "grid_default": {
        "col": null,
        "height": 2,
        "hidden": true,
        "row": null,
        "width": 2
       }
      }
     }
    }
   },
   "outputs": [],
   "source": [
    "# вывод списка слов, удовлетворяющих условиям\n",
    "def predictwords(wrongletters, wrongplaces, rightplaces, wordsarray):\n",
    "    goodwords = []\n",
    "    for w in wordsarray:\n",
    "        badwordflag = False\n",
    "        \n",
    "        # 1) в слове должны быть найденные буквы в нужных местах\n",
    "        for i in range(len(rightplaces)):\n",
    "            if (rightplaces[i] != '_') & (rightplaces[i] != w[i]):\n",
    "                badwordflag = True\n",
    "                break\n",
    "        if badwordflag: continue\n",
    "        \n",
    "        # 2) в слове не должно быть отсутствующих букв\n",
    "        for l in w:\n",
    "            if l in wrongletters:\n",
    "                badwordflag = True\n",
    "                break\n",
    "        if badwordflag: continue\n",
    "        \n",
    "        # 3) в слове должны быть неправильно расположенные буквы\n",
    "        # 4) в слове неправильно расположенные буквы не должны быть на неправильных местах\n",
    "        for l in list(wrongplaces.keys()):\n",
    "            if l not in w: # неправильно расположенные буквы должны быть в слове (странно, да?)\n",
    "                badwordflag = True\n",
    "                break\n",
    "            else:\n",
    "                for i in range(len(w)):\n",
    "                    if (l == w[i]) & (i in wrongplaces[l]): # если место буквы в слове есть в списке \"плохих\" мест\n",
    "                        badwordflag = True\n",
    "                        break\n",
    "        if badwordflag: continue\n",
    "        \n",
    "        # переехало в цикл к условию 3)\n",
    "        # for l in list(wrongplaces.keys()):\n",
    "        #     if l not in w:\n",
    "        #         badwordflag = True\n",
    "        #         break\n",
    "        # if badwordflag: continue\n",
    "        goodwords += [w]\n",
    "    return goodwords    "
   ]
  },
  {
   "cell_type": "markdown",
   "metadata": {},
   "source": [
    "Посчитаем, сколько нужно ходов для угадывания каждого слова. Объявим функцию, которая делает одну итерацию игры."
   ]
  },
  {
   "cell_type": "code",
   "execution_count": 20,
   "metadata": {},
   "outputs": [],
   "source": [
    "def oneturn(secret, tryword, wrongletters='', wrongplaces={}, rightplaces='', checkplace=True):\n",
    "    # проверяем слово, разбираем результат\n",
    "    (wrongletters, wrongplaces, rightplaces) = scanresults(tryword, checkword(secret, tryword), wrongletters, wrongplaces, rightplaces)\n",
    "    # ищем слова, подходящие по условиям\n",
    "    nextwords = predictwords(wrongletters, wrongplaces, rightplaces, words)\n",
    "    if(len(nextwords)==1):\n",
    "        return ('', wrongletters, wrongplaces, rightplaces)\n",
    "    else:\n",
    "        # подсчитаем рейтинг найденных слов\n",
    "        scorelist=[[w, score(w, rightplaces, checkplace)] for w in nextwords]\n",
    "        newwords=sorted(scorelist,key=lambda x: x[1],reverse=True)\n",
    "        return(newwords[0][0], wrongletters, wrongplaces, rightplaces) # вернем слово с самым большым рейтингом"
   ]
  },
  {
   "cell_type": "markdown",
   "metadata": {},
   "source": [
    "Погнали! Сначала посчитаем ходы с учетом местоположения букв в слове (слова с буквами, расопложенными на \"популярных\" для этой буквы местах оцениваются выше)"
   ]
  },
  {
   "cell_type": "code",
   "execution_count": 22,
   "metadata": {
    "tags": []
   },
   "outputs": [
    {
     "name": "stdout",
     "output_type": "stream",
     "text": [
      "CPU times: total: 12.1 s\n",
      "Wall time: 12.1 s\n"
     ]
    },
    {
     "data": {
      "text/plain": [
       "2594"
      ]
     },
     "execution_count": 22,
     "metadata": {},
     "output_type": "execute_result"
    }
   ],
   "source": [
    "%%time\n",
    "turnswithcheckplace=[]\n",
    "for w in words:\n",
    "    wrongletters=''; wrongplaces={}; rightplaces=''\n",
    "    newword='порка'\n",
    "    counter=0\n",
    "    while newword != '':\n",
    "        counter+=1\n",
    "        if counter>10: break\n",
    "        (newword, wrongletters, wrongplaces, rightplaces) = oneturn(w, newword, wrongletters, wrongplaces, rightplaces, True)\n",
    "    turnswithcheckplace += [counter]\n",
    "#         print(f'Следущее слово: {newword}')\n",
    "\n",
    "len(turnswithcheckplace)"
   ]
  },
  {
   "cell_type": "markdown",
   "metadata": {},
   "source": [
    "4,88 с на Intel Core i7 870 @2.93Ggz  \n",
    "42,2 с на Phenom II X4 960T @3Ggz - какая-то ошибка в установленном питоне, не может быть такая разница  \n",
    "12,1 с на Intel Core i5-12400 2.50 GHz - тут тоже, похоже, что-то не так"
   ]
  },
  {
   "cell_type": "markdown",
   "metadata": {},
   "source": [
    "А теперь без учета местоположения букв"
   ]
  },
  {
   "cell_type": "code",
   "execution_count": 24,
   "metadata": {
    "tags": []
   },
   "outputs": [
    {
     "name": "stdout",
     "output_type": "stream",
     "text": [
      "CPU times: total: 12.5 s\n",
      "Wall time: 12.4 s\n"
     ]
    },
    {
     "data": {
      "text/plain": [
       "2594"
      ]
     },
     "execution_count": 24,
     "metadata": {},
     "output_type": "execute_result"
    }
   ],
   "source": [
    "%%time\n",
    "turnswithoutcheckplace=[]\n",
    "for w in words:\n",
    "    wrongletters=''; wrongplaces={}; rightplaces=''\n",
    "    newword='порка'\n",
    "    counter=0\n",
    "    while newword != '':\n",
    "        counter+=1\n",
    "        if counter>10: break\n",
    "        (newword, wrongletters, wrongplaces, rightplaces) = oneturn(w, newword, wrongletters, wrongplaces, rightplaces, False)\n",
    "    turnswithoutcheckplace += [counter]\n",
    "#         print(f'Следущее слово: {newword}')\n",
    "\n",
    "len(turnswithcheckplace)"
   ]
  },
  {
   "cell_type": "markdown",
   "metadata": {},
   "source": [
    "4,72 с на Intel Core i7 870 @2.93Ggz  \n",
    "43,5 с на Phenom II X4 960T @3Ggz"
   ]
  },
  {
   "cell_type": "markdown",
   "metadata": {},
   "source": [
    "Попробуем использовать pandas, seaborn и построим наглядные гистограммы"
   ]
  },
  {
   "cell_type": "code",
   "execution_count": 26,
   "metadata": {},
   "outputs": [
    {
     "name": "stderr",
     "output_type": "stream",
     "text": [
      "C:\\Users\\user\\miniconda3\\envs\\jupyterenv\\lib\\site-packages\\seaborn\\_oldcore.py:1498: FutureWarning: is_categorical_dtype is deprecated and will be removed in a future version. Use isinstance(dtype, CategoricalDtype) instead\n",
      "  if pd.api.types.is_categorical_dtype(vector):\n",
      "C:\\Users\\user\\miniconda3\\envs\\jupyterenv\\lib\\site-packages\\seaborn\\_oldcore.py:1498: FutureWarning: is_categorical_dtype is deprecated and will be removed in a future version. Use isinstance(dtype, CategoricalDtype) instead\n",
      "  if pd.api.types.is_categorical_dtype(vector):\n",
      "C:\\Users\\user\\miniconda3\\envs\\jupyterenv\\lib\\site-packages\\seaborn\\_oldcore.py:1498: FutureWarning: is_categorical_dtype is deprecated and will be removed in a future version. Use isinstance(dtype, CategoricalDtype) instead\n",
      "  if pd.api.types.is_categorical_dtype(vector):\n",
      "C:\\Users\\user\\miniconda3\\envs\\jupyterenv\\lib\\site-packages\\seaborn\\_oldcore.py:1498: FutureWarning: is_categorical_dtype is deprecated and will be removed in a future version. Use isinstance(dtype, CategoricalDtype) instead\n",
      "  if pd.api.types.is_categorical_dtype(vector):\n"
     ]
    },
    {
     "data": {
      "text/plain": [
       "<Axes: xlabel='turns', ylabel='count'>"
      ]
     },
     "execution_count": 26,
     "metadata": {},
     "output_type": "execute_result"
    },
    {
     "data": {
      "image/png": "[encoded data removed]",
      "text/plain": [
       "<Figure size 640x480 with 1 Axes>"
      ]
     },
     "metadata": {},
     "output_type": "display_data"
    }
   ],
   "source": [
    "# import numpy as np\n",
    "import pandas as pd\n",
    "# import matplotlib.pyplot as plt\n",
    "import seaborn as sns\n",
    "\n",
    "# соберем датафрейм\n",
    "df = pd.DataFrame({ 'turns': turnswithoutcheckplace + turnswithcheckplace, \n",
    "                    'check': [False]*len(words) + [True]*len(words)})\n",
    "\n",
    "# две гистограммы рядом\n",
    "# _, axes = plt.subplots(1, 2, sharey=True, figsize=(15, 5))\n",
    "# axes[0].set_title(f\"withoutcheckplace (mean={statistics.mean(turnswithoutcheckplace)})\")\n",
    "# axes[1].set_title(f\"withcheckplace (mean={statistics.mean(turnswithcheckplace)})\")\n",
    "# sns.histplot(turnswithoutcheckplace, ax=axes[0])\n",
    "# sns.histplot(turnswithcheckplace, ax=axes[1])\n",
    "\n",
    "# слишком тонкие прямоугольники\n",
    "# sns.histplot(x='turns', data=df, hue='check',alpha=0.5, multiple='dodge') \n",
    "\n",
    "# красиво, но без подписей\n",
    "# plt.hist([turnswithoutcheckplace, turnswithcheckplace]);\n",
    "\n",
    "sns.countplot(x='turns',hue='check',data=df)\n"
   ]
  },
  {
   "cell_type": "markdown",
   "metadata": {},
   "source": [
    "Выводы, которые можно сделать из графика:\n",
    "1) Внезапно, учет местоположения буквы даёт небольшой выигрыш в числе попыток.  \n",
    "2) Есть такие слова, которые не отгадать за 6 ходов, используя выбранную стратегию. Найдем их"
   ]
  },
  {
   "cell_type": "code",
   "execution_count": 27,
   "metadata": {},
   "outputs": [
    {
     "name": "stdout",
     "output_type": "stream",
     "text": [
      "бабка: 8 6\n",
      "байка: 8 6\n",
      "башка: 8 5\n",
      "бобок: 7 5\n",
      "божок: 7 5\n",
      "гайка: 9 5\n",
      "давка: 7 5\n",
      "дачка: 7 6\n",
      "дудка: 5 8\n",
      "дужка: 6 8\n",
      "душка: 6 7\n",
      "жесть: 8 7\n",
      "жучка: 7 6\n",
      "заика: 5 7\n",
      "зайка: 5 7\n",
      "качка: 5 7\n",
      "кашка: 5 7\n",
      "любка: 7 2\n",
      "лёжка: 7 6\n",
      "мойка: 6 7\n",
      "мошка: 5 7\n",
      "тесть: 7 6\n",
      "тётка: 7 7\n",
      "фишка: 6 7\n",
      "чайка: 9 8\n",
      "чашка: 8 8\n",
      "честь: 8 7\n",
      "чижик: 5 7\n",
      "чуйка: 7 7\n",
      "чушка: 7 7\n",
      "чёлка: 7 7\n",
      "шавка: 7 5\n",
      "шайка: 8 8\n",
      "шашка: 8 8\n",
      "шизик: 5 7\n",
      "шишка: 6 7\n",
      "щёлка: 7 7\n",
      "щётка: 7 7\n"
     ]
    }
   ],
   "source": [
    "for i in range(len(words)):\n",
    "    if (turnswithoutcheckplace[i]>6) | (turnswithcheckplace[i]>6):\n",
    "        print(f\"{words[i]}: {turnswithoutcheckplace[i]} {turnswithcheckplace[i]}\")"
   ]
  },
  {
   "cell_type": "markdown",
   "metadata": {},
   "source": [
    "Самое трудное слово для обоих методов расчета рейтинга: \"чайка\""
   ]
  },
  {
   "cell_type": "code",
   "execution_count": 28,
   "metadata": {},
   "outputs": [
    {
     "data": {
      "text/plain": [
       "(25, 25)"
      ]
     },
     "execution_count": 28,
     "metadata": {},
     "output_type": "execute_result"
    }
   ],
   "source": [
    "(len([[words[i],t] for t, i in zip(turnswithoutcheckplace,range(len(turnswithoutcheckplace))) if t > 6]),\n",
    "len([[words[i],t] for t, i in zip(turnswithcheckplace,range(len(turnswithoutcheckplace))) if t > 6]))"
   ]
  },
  {
   "cell_type": "markdown",
   "metadata": {},
   "source": [
    "Количество слов, которые не отгадываются за 6 ходов слов, одинаковое для обоих способов расчета рейтинга.  \n",
    "Судя по гистограмме, есть слова, которые угадываются на второй ход. Посмотрим на них."
   ]
  },
  {
   "cell_type": "code",
   "execution_count": 29,
   "metadata": {},
   "outputs": [
    {
     "name": "stdout",
     "output_type": "stream",
     "text": [
      "['бурки', 'капер', 'капор', 'кобра', 'комар', 'копна', 'копра', 'копёр', 'коран', 'крепь', 'крупа', 'нерпа', 'осока', 'парик', 'парок', 'паром', 'пивко', 'пикша', 'пирог', 'показ', 'покер', 'порка', 'порок', 'порча', 'право', 'пункт', 'репка', 'серко', 'скрап', 'толпа', 'укроп']\n"
     ]
    }
   ],
   "source": [
    "print([words[i] for t, i in zip(turnswithcheckplace,range(len(turnswithoutcheckplace))) if t == 1])"
   ]
  },
  {
   "cell_type": "markdown",
   "metadata": {},
   "source": [
    "Посмотрим, сколько ходов нужно сделать, что бы угадать слово \"чайка\""
   ]
  },
  {
   "cell_type": "code",
   "execution_count": 31,
   "metadata": {},
   "outputs": [
    {
     "name": "stdout",
     "output_type": "stream",
     "text": [
      "('порка', '---++', '___ка', 138)\n",
      "('белка', '---++', '___ка', 79)\n",
      "('самка', '-+-++', '_а_ка', 22)\n",
      "('ватка', '-+-++', '_а_ка', 14)\n",
      "('ганка', '-+-++', '_а_ка', 10)\n",
      "('кадка', '*+-++', '_а_ка', 6)\n",
      "('заика', '-+-++', '_а_ка', 4)\n",
      "('шайка', '-++++', '_айка', 1)\n",
      "['чайка']\n"
     ]
    }
   ],
   "source": [
    "tryword = 'порка'\n",
    "secret = 'чайка'\n",
    "wrongletters=''; wrongplaces={}; rightplaces=''\n",
    "i = 0\n",
    "while i < 10:\n",
    "    i += 1\n",
    "    checkresult = checkword(secret, tryword)\n",
    "    (wrongletters, wrongplaces, rightplaces) = scanresults(tryword, checkresult, wrongletters, wrongplaces, rightplaces)\n",
    "    nextwords = predictwords(wrongletters, wrongplaces, rightplaces, words)\n",
    "    print( (tryword, checkresult,rightplaces,len(nextwords)) )\n",
    "    if(len(nextwords)==1):\n",
    "        print(nextwords)\n",
    "        break\n",
    "    else:\n",
    "        scorelist=[[w, score(w, rightplaces)] for w in nextwords]\n",
    "        newwords=sorted(scorelist,key=lambda x: x[1],reverse=True)\n",
    "        tryword=newwords[0][0]\n"
   ]
  },
  {
   "cell_type": "markdown",
   "metadata": {},
   "source": [
    "А теперь забубеним мега-функцию, которая на основании предыдущих попыток предлагает новое слово"
   ]
  },
  {
   "cell_type": "code",
   "execution_count": 32,
   "metadata": {},
   "outputs": [],
   "source": [
    "def predictnextword(attempts):\n",
    "    wrongletters = ''\n",
    "    wrongplaces = {}\n",
    "    rightplaces = ''\n",
    "\n",
    "    # разберем попытки   \n",
    "    for tryword, result in attempts:\n",
    "        wrongletters, wrongplaces, rightplaces = scanresults(tryword, result, wrongletters, wrongplaces, rightplaces)\n",
    "    \n",
    "    nextwords = predictwords(wrongletters, wrongplaces, rightplaces, words)\n",
    "    scorelist=[[w, score(w, rightplaces)] for w in nextwords]\n",
    "    newwords=sorted(scorelist, key=lambda x: x[1], reverse=True)\n",
    "    return f\"{min(10,len(newwords))} из {len(newwords)}:\", newwords[:10]"
   ]
  },
  {
   "cell_type": "code",
   "execution_count": 33,
   "metadata": {
    "tags": []
   },
   "outputs": [
    {
     "data": {
      "text/plain": [
       "('6 из 6:',\n",
       " [['заика', 180],\n",
       "  ['зайка', 129],\n",
       "  ['шайка', 111],\n",
       "  ['чашка', 101],\n",
       "  ['чайка', 86],\n",
       "  ['шашка', 62]])"
      ]
     },
     "execution_count": 33,
     "metadata": {},
     "output_type": "execute_result"
    }
   ],
   "source": [
    "predictnextword([['порка','---++'],['белка','---++'],['самка','-+-++'],['ватка','-+-++'],['ганка','-+-++'],['кадка','*+-++']])   "
   ]
  },
  {
   "cell_type": "code",
   "execution_count": null,
   "metadata": {},
   "outputs": [],
   "source": []
  }
 ],
 "metadata": {
  "extensions": {
   "jupyter_dashboards": {
    "activeView": "grid_default",
    "version": 1,
    "views": {
     "grid_default": {
      "cellMargin": 2,
      "defaultCellHeight": 60,
      "maxColumns": 12,
      "name": "grid",
      "type": "grid"
     }
    }
   }
  },
  "kernelspec": {
   "display_name": "Python 3 (ipykernel)",
   "language": "python",
   "name": "python3"
  },
  "language_info": {
   "codemirror_mode": {
    "name": "ipython",
    "version": 3
   },
   "file_extension": ".py",
   "mimetype": "text/x-python",
   "name": "python",
   "nbconvert_exporter": "python",
   "pygments_lexer": "ipython3",
   "version": "3.10.13"
  }
 },
 "nbformat": 4,
 "nbformat_minor": 4
}
