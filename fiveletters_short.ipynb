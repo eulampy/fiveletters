{
 "cells": [
  {
   "cell_type": "markdown",
   "metadata": {
    "extensions": {
     "jupyter_dashboards": {
      "activeView": "grid_default",
      "views": {
       "grid_default": {
        "col": null,
        "height": 2,
        "hidden": true,
        "row": null,
        "width": 2
       }
      }
     }
    },
    "tags": []
   },
   "source": [
    "# Игра \"5 Букв\"\n",
    "Тинькофф перезапустил игру \"5 букв\", в которой нужно отгадывать слова. Вам нужно набрать существительное из пяти букв, система покажет какие буквы этого слова есть в загаданном слове, на основе этой информации вы должны отгадать слово за несколько попыток.  \n",
    "Для призов банк подготовил скидки, кэшбэки и др. Например, за 60 слов можно получить 50%-й кэшбэк в Ozon.\n",
    "Играем в игру из приложения Тиньков банка \"5 букв\".  Правила игры похожи на игру Wordle.\n",
    "<div>\n",
    "<img src=\"game.jpeg\" width=\"200\"/>\n",
    "</div>   \n",
    "Попробуем придумать какую-нибудь стратегию для выигрыша."
   ]
  },
  {
   "cell_type": "markdown",
   "metadata": {},
   "source": [
    "## Чтение файла"
   ]
  },
  {
   "cell_type": "markdown",
   "metadata": {},
   "source": [
    "Для нашей игры прочитаем список слов, которые:\n",
    "* состоят из 5 букв\n",
    "* не содержат символы не из алфавита (дефисы, английские буквы)\n",
    "* не начинаются с заглавной буквы  \n",
    "\n",
    "Исходный файл [nouns.csv](https://github.com/Badestrand/russian-dictionary/blob/master/nouns.csv) взят с гитхаба (https://github.com/Badestrand/russian-dictionary) (Creative Commons Attribution Share Alike 4.0)."
   ]
  },
  {
   "cell_type": "code",
   "execution_count": 41,
   "metadata": {
    "tags": []
   },
   "outputs": [
    {
     "data": {
      "text/plain": [
       "(['аарон',\n",
       "  'абака',\n",
       "  'аббат',\n",
       "  'абвер',\n",
       "  'абзац',\n",
       "  'аборт',\n",
       "  'абрек',\n",
       "  'абрис',\n",
       "  'абхаз',\n",
       "  'абцуг'],\n",
       " 3607)"
      ]
     },
     "execution_count": 41,
     "metadata": {},
     "output_type": "execute_result"
    }
   ],
   "source": [
    "words = []\n",
    "with open('nouns.txt', encoding='utf-8') as file:\n",
    "    words = [w.strip() for w in file.readlines()]\n",
    "\n",
    "words = [w for w in words if not 'ё' in w] # отбрасываем слова с буквой \"ё\" \n",
    "words.sort()\n",
    "(words[:10], len(words))"
   ]
  },
  {
   "cell_type": "markdown",
   "metadata": {},
   "source": [
    "## Класс WordPredictor"
   ]
  },
  {
   "cell_type": "code",
   "execution_count": 42,
   "metadata": {},
   "outputs": [],
   "source": [
    "class WordPredictor:\n",
    "    def __init__(self, words, takeplace=True):\n",
    "        \"\"\"\n",
    "        words     : массив слов\n",
    "        takeplace : Учитывать место буквы при подсчете рейтинга слова. \n",
    "                    Например встречаемость буквы й в зависимости от места: [0, 1, 38, 8, 50]\n",
    "        \"\"\"\n",
    "        self.takeplace = takeplace\n",
    "        self.words = words.copy() # TODO: проверка, что бы все слова были одинаковой длины\n",
    "        self.alphabet = ''\n",
    "        \n",
    "        # для расчета рейтинга слова соберем статистику по буквам\n",
    "        dict={}\n",
    "\n",
    "        for w in self.words:\n",
    "            for l in w:\n",
    "                if not l in self.alphabet:\n",
    "                    self.alphabet += l\n",
    "                dict[l] = dict.get(l, 0) + 1\n",
    "        \n",
    "        sorted_tuples = sorted(dict.items(), key=lambda x: x[1],reverse=True)\n",
    "        self.letter_rating = {k: v for k, v in sorted_tuples}\n",
    "        mostusedletters = \"\".join(list(self.letter_rating.keys()))\n",
    "        self.alphabet = ''.join(sorted(self.alphabet))\n",
    "        print(f\"Алфавит: {self.alphabet}\")\n",
    "        print(f\"Буквы, отсортированные по степени встречаемости: {mostusedletters}\")\n",
    "        \n",
    "        # а теперь посмотрим, на каких местах каждая буква встречается чаще\n",
    "        self.letter_places={k: [0]*5 for k in self.alphabet}\n",
    "        for w in self.words:\n",
    "            for l,i in zip(w, range(5)):        \n",
    "                self.letter_places[l][i] += 1\n",
    "         \n",
    "        self.reset()\n",
    "        \n",
    "                \n",
    "    def _score(self, w, ignore=''):\n",
    "        \"\"\"\n",
    "        Подсчет рейтинга слова\n",
    "        ignore     : Строка с метками для, определяющая, учитывать букву при расчете рейтинга слова (символ \"_\") или нет.\n",
    "                     Это нужно, что бы считать рейтинг слов, для которых уже угаданы позиции букв. \n",
    "                     В этом случае угаданные буквы игнорируются в рейтинге\n",
    "        \"\"\"\n",
    "        if ignore == '': ignore = '_'*len(w) # если ignore не задана, то считаем рейтинг по всем буквам\n",
    "        s=0\n",
    "        for i in range(len(w)):\n",
    "            if ignore[i] not in self.alphabet: # вместо буквы находится символ, значит буква учавствует в подсчете\n",
    "                if not self.takeplace:\n",
    "                    s += self.sorted_dict[w[i]]//w.count(w[i])\n",
    "                else:\n",
    "                    s += self.letter_places[w[i]][i]//w.count(w[i])\n",
    "        return s\n",
    "    \n",
    "    def reset(self):\n",
    "        \"\"\"\n",
    "        сброс попыток подбора слова\n",
    "        \"\"\"\n",
    "        self.wrongletters=''               # список букв, которых вообще нет в угадываемом слове\n",
    "        self.wrongplaces={}                # словарь букв, которые есть в слове, но не на своём месте\n",
    "        self.doubleletters=''              # список повторяющихся в слове букв\n",
    "        self.correctplaces='_'*len(words[0]) # список угаданных букв\n",
    "        self.attempts = []                 # список попыток с результатом\n",
    "        self.goodwords = words.copy()      # список слов, которые удовлетворяют условиям\n",
    "        self.endgame = False               # флаг окончания поиска\n",
    "        \n",
    "    \n",
    "    def _scan_results(self, testword, result):\n",
    "        \"\"\"\n",
    "        Разбор результата проверки с записью в соответствующие переменные\n",
    "        testword : слово, которое проверялось\n",
    "        result   : результат проверки, \"-\" - буквы в слове нет, \"*\" - буква есть, но на другом месте\n",
    "                   \"+\" - буква угадана\n",
    "        \"\"\"\n",
    "        # TODO: проверка на равенство длин testword, result и words\n",
    "        for i, (r, l) in enumerate(zip(result, testword)):\n",
    "            if (r=='-'):\n",
    "                if not l in self.correctplaces: # условие нужно, что бы не записать в wrongletters букву, которая уже угадана\n",
    "                    self.wrongletters = ''.join(set(self.wrongletters) | set(l))\n",
    "            elif (r=='*'):\n",
    "                self.wrongplaces[l] = self.wrongplaces.get(l,[]) + [i]\n",
    "                if l in self.correctplaces:  # если буква уже угадана, и она найдена снова\n",
    "                    self.doubleletters += l\n",
    "            else:\n",
    "                t = list(self.correctplaces)\n",
    "                t[i] = l\n",
    "                self.correctplaces = ''.join(t)\n",
    "                \n",
    "\n",
    "    def _is_good_word(self, word):\n",
    "        \"\"\"\n",
    "        проверка слова по условиям wrongletters, wrongplaces, correctplaces, doubleletters\n",
    "        \"\"\"\n",
    "        \n",
    "        # 1) в слове должны быть найденные буквы в нужных местах\n",
    "        for testletter, goodletter in zip(word, self.correctplaces):\n",
    "            if goodletter != '_': # если угаданная буква есть на этом месте\n",
    "                if testletter != goodletter: # и она не равна проверяемой букве\n",
    "                    return False # сразу нет\n",
    "\n",
    "        # 2) в слове не должно быть отсутствующих букв\n",
    "        for letter in word:\n",
    "            if letter in self.wrongletters:\n",
    "                return False\n",
    "            \n",
    "        # 3) если есть одинаковые буквы, то они толжны быть в слове\n",
    "        for doubleletter in self.doubleletters:\n",
    "            if word.count(doubleletter) < 2:\n",
    "                return False\n",
    "\n",
    "        # что будет, если в слове будут одинаковые буквы?\n",
    "        # если проверяемое слово содержит одинаковые буквы, и места будут не угаданы (символ *), то оба неугаданных места будут сохранены в словаре wrongplaces\n",
    "        # одна буква будет угадана и она будет в списке correctplaces\n",
    "        # а возможное место второй буквы можно будет вычислить по словарю wrongplaces\n",
    "        # проверки 4) и 5) можно оставить, так как они не противоречат наличию одинаковых букв в слове\n",
    "            \n",
    "        # 4) в слове должны быть неправильно расположенные буквы\n",
    "        for letter in list(self.wrongplaces.keys()): # берем каждую неправильно расположенную букву\n",
    "            if letter not in word: # неправильно расположенные буквы должны быть в слове (странно, да?)\n",
    "                return False\n",
    "            \n",
    "        # 5) если буква есть в списке неправильно расположенных букв, то её место не должно быть в списке неправильных мест\n",
    "        for i, testletter in enumerate(word):\n",
    "            if i in self.wrongplaces.get(testletter, []): # буква есть в списке и её место тоже есть в списке\n",
    "                return False\n",
    "                \n",
    "        return True # если слово прошло все проверки\n",
    "\n",
    "    def _find_good_words(self):\n",
    "        \"\"\"\n",
    "        Вывод списка слов, удовлетворяющих условиям в переменных wrongletters, wrongplaces, correctplaces\n",
    "        \"\"\"\n",
    "        goodwordsnext = []\n",
    "\n",
    "        for w in self.goodwords:\n",
    "            if self._is_good_word(w):\n",
    "                goodwordsnext += [w]\n",
    "        return goodwordsnext\n",
    "        \n",
    "    def predict_next_words(self, testword, result):\n",
    "        \"\"\"\n",
    "        главная функция предсказания следующих слов\n",
    "        testword  :  слово, которое было указано в приложении\n",
    "        result    :  результат предсказания этого слова\n",
    "        \"\"\"\n",
    "        if self.endgame:\n",
    "            print('Нужно сбросить поиск вызвав reset()')\n",
    "            return None, None\n",
    "        \n",
    "        self.attempts.append([testword, result]) # добавляем попытку в массив попыток (зачем?)\n",
    "        self._scan_results(testword, result)      # сканируем результат попытки\n",
    "        nextwords = self._find_good_words()  # ищем слова, подходящие под условия\n",
    "        \n",
    "        if len(nextwords) == 0:\n",
    "            print('Что-то пошло не так. Не могу найти слова, попадающие под условия')\n",
    "            self.endgame = True\n",
    "            return None, (None, None)\n",
    "        elif len(nextwords) == 1:\n",
    "            # print(f'Слово найдено: {nextwords[0]}.\\nЧисло ходов {len(self.attempts)}.')\n",
    "            self.endgame = True\n",
    "            return \"1 из 1:\", [[nextwords[0], self._score(nextwords[0])]]\n",
    "        else:\n",
    "            self.goodwords = nextwords\n",
    "            scorelist=[[w, self._score(w, self.correctplaces)] for w in self.goodwords] # считаем рейтинг слов...\n",
    "            newwords=sorted(scorelist,key=lambda x: x[1],reverse=True) # и сортируем по убыванию\n",
    "            return f\"{min(10, len(newwords))} из {len(newwords)}:\", newwords[:10]\n",
    "    \n",
    "    @staticmethod\n",
    "    def check_word(correctword, testword):\n",
    "        \"\"\"\n",
    "        проверка слова, как это присходит в игре\n",
    "        \"\"\"\n",
    "        tresult=''\n",
    "        correctletters = ''\n",
    "        for rl, tl in zip(correctword, testword):\n",
    "            if tl not in correctword:\n",
    "                tresult += '-'\n",
    "            else:\n",
    "                if tl==rl:\n",
    "                    tresult += '+'\n",
    "                    correctletters += tl # собираем угаданыне буквы\n",
    "                else: \n",
    "                    tresult += '*'\n",
    "                    \n",
    "        # теперь пройдемся еще раз по результатам сканирования и уберем в результатах звёздочки для тех букв, места которых точно определены (плюсики)\n",
    "        # вместо check_word('чайка', 'кадка') = '*+-++' нужно получить '-+-++', потому что в слове \"чайка\" буква \"к\" одна\n",
    "        result = ''\n",
    "        for tl, r in zip(testword, tresult):\n",
    "            replace = False\n",
    "            if r == '*':                         # если буква есть в слове, но не на своем месте\n",
    "                if correctword.count(tl) == 1:   # и в загаданном слове эта буква только одна\n",
    "                    if tl in correctletters:     # и место этой буквы точно определено\n",
    "                        replace = True\n",
    "                                   \n",
    "            result += '-' if replace else r # меняем '*' на '-'\n",
    "        return result\n",
    "    \n",
    "\n",
    "    def find_word(self, secret, tryword='порка'):\n",
    "        \"\"\"\n",
    "        поиск загаданного слова secret, используюя описанные в классе алгоритмы\n",
    "        \"\"\"\n",
    "        self.reset()\n",
    "    \n",
    "        i = 0\n",
    "        while i < 10:\n",
    "            i += 1\n",
    "            checkresult = WordPredictor.check_word(secret, tryword) # проверяем слово\n",
    "            _, nextwords = self.predict_next_words(tryword, checkresult) # ищем новые слова\n",
    "            print( (tryword, checkresult, self.correctplaces, len(nextwords)) )\n",
    "            if(len(nextwords)==1):\n",
    "                print(f'Конец игры. Загаданное слово: {nextwords[0][0]}')\n",
    "                break\n",
    "            else:\n",
    "                tryword=nextwords[0][0]"
   ]
  },
  {
   "cell_type": "markdown",
   "metadata": {},
   "source": [
    "## Проверка алгоритма поиска"
   ]
  },
  {
   "cell_type": "code",
   "execution_count": 43,
   "metadata": {
    "tags": []
   },
   "outputs": [
    {
     "name": "stdout",
     "output_type": "stream",
     "text": [
      "Алфавит: абвгдежзийклмнопрстуфхцчшщъыьэюя\n",
      "Буквы, отсортированные по степени встречаемости: аокриетнлсупмбвдгзяшьыхчфжйцющэъ\n"
     ]
    }
   ],
   "source": [
    "wp = WordPredictor(words)"
   ]
  },
  {
   "cell_type": "code",
   "execution_count": 44,
   "metadata": {
    "tags": []
   },
   "outputs": [
    {
     "name": "stdout",
     "output_type": "stream",
     "text": [
      "('порка', '---++', '___ка', 10)\n",
      "('силка', '---++', '___ка', 10)\n",
      "('метка', '---++', '___ка', 10)\n",
      "('банка', '-+-++', '_а_ка', 10)\n",
      "('кадка', '-+-++', '_а_ка', 10)\n",
      "('шавка', '-+-++', '_а_ка', 5)\n",
      "('качка', '-+*++', '_а_ка', 1)\n",
      "Конец игры. Загаданное слово: чайка\n"
     ]
    }
   ],
   "source": [
    "wp.find_word('чайка')"
   ]
  },
  {
   "cell_type": "code",
   "execution_count": 45,
   "metadata": {
    "tags": []
   },
   "outputs": [
    {
     "data": {
      "text/plain": [
       "'лнеспимдбвротш'"
      ]
     },
     "execution_count": 45,
     "metadata": {},
     "output_type": "execute_result"
    }
   ],
   "source": [
    "wp.wrongletters"
   ]
  },
  {
   "cell_type": "markdown",
   "metadata": {},
   "source": [
    "## Пример поиска слова \"манеж\""
   ]
  },
  {
   "cell_type": "markdown",
   "metadata": {},
   "source": [
    "<div>\n",
    "<img src=\"example.png\" width=\"200\"/>  \n",
    "</div>  \n",
    "1) Начинаем со слова \"порка\":"
   ]
  },
  {
   "cell_type": "code",
   "execution_count": 46,
   "metadata": {
    "tags": []
   },
   "outputs": [
    {
     "data": {
      "text/plain": [
       "('10 из 290:',\n",
       " [['сатин', 1972],\n",
       "  ['салун', 1847],\n",
       "  ['балет', 1839],\n",
       "  ['валет', 1822],\n",
       "  ['ватин', 1812],\n",
       "  ['талия', 1771],\n",
       "  ['бадин', 1750],\n",
       "  ['талес', 1746],\n",
       "  ['баден', 1709],\n",
       "  ['шатен', 1700]])"
      ]
     },
     "execution_count": 46,
     "metadata": {},
     "output_type": "execute_result"
    }
   ],
   "source": [
    "wp.reset() # сбрасываем поиск\n",
    "wp.predict_next_words('порка', '----*')"
   ]
  },
  {
   "cell_type": "markdown",
   "metadata": {},
   "source": [
    "2\\) Пусть следующее слово будет \"сатин\""
   ]
  },
  {
   "cell_type": "code",
   "execution_count": 47,
   "metadata": {
    "tags": []
   },
   "outputs": [
    {
     "data": {
      "text/plain": [
       "('10 из 18:',\n",
       " [['манеж', 787],\n",
       "  ['ганец', 773],\n",
       "  ['шанец', 753],\n",
       "  ['ханец', 714],\n",
       "  ['надел', 705],\n",
       "  ['манул', 687],\n",
       "  ['мазня', 662],\n",
       "  ['набег', 653],\n",
       "  ['башня', 623],\n",
       "  ['навал', 532]])"
      ]
     },
     "execution_count": 47,
     "metadata": {},
     "output_type": "execute_result"
    }
   ],
   "source": [
    "wp.predict_next_words('сатин', '-+--*')"
   ]
  },
  {
   "cell_type": "markdown",
   "metadata": {},
   "source": [
    "3\\) \"Манеж\" наиболее вероятное слово и оно же загадано. Но что будет, если выбрать, например, \"ганец\"?"
   ]
  },
  {
   "cell_type": "code",
   "execution_count": 48,
   "metadata": {
    "tags": []
   },
   "outputs": [
    {
     "data": {
      "text/plain": [
       "('1 из 1:', [['манеж', 1526]])"
      ]
     },
     "execution_count": 48,
     "metadata": {},
     "output_type": "execute_result"
    }
   ],
   "source": [
    "wp.predict_next_words('ганец', '-+++-') "
   ]
  },
  {
   "cell_type": "markdown",
   "metadata": {},
   "source": [
    "Остаётся только \"манеж\". Парам-парам-па, пиу!"
   ]
  },
  {
   "cell_type": "markdown",
   "metadata": {},
   "source": [
    "### Отгадываем слово \"гладь\""
   ]
  },
  {
   "cell_type": "code",
   "execution_count": 49,
   "metadata": {},
   "outputs": [
    {
     "data": {
      "text/plain": [
       "('10 из 290:',\n",
       " [['сатин', 1972],\n",
       "  ['салун', 1847],\n",
       "  ['балет', 1839],\n",
       "  ['валет', 1822],\n",
       "  ['ватин', 1812],\n",
       "  ['талия', 1771],\n",
       "  ['бадин', 1750],\n",
       "  ['талес', 1746],\n",
       "  ['баден', 1709],\n",
       "  ['шатен', 1700]])"
      ]
     },
     "execution_count": 49,
     "metadata": {},
     "output_type": "execute_result"
    }
   ],
   "source": [
    "wp.reset() # сбрасываем поиск\n",
    "wp.predict_next_words('порка', '----*')"
   ]
  },
  {
   "cell_type": "code",
   "execution_count": 50,
   "metadata": {},
   "outputs": [
    {
     "data": {
      "text/plain": [
       "('10 из 26:',\n",
       " [['шемая', 1182],\n",
       "  ['бугай', 1127],\n",
       "  ['дувал', 1109],\n",
       "  ['вуаль', 1082],\n",
       "  ['шугай', 1039],\n",
       "  ['чувал', 1036],\n",
       "  ['легаш', 1033],\n",
       "  ['вылаз', 1029],\n",
       "  ['чуваш', 970],\n",
       "  ['гуашь', 906]])"
      ]
     },
     "execution_count": 50,
     "metadata": {},
     "output_type": "execute_result"
    }
   ],
   "source": [
    "wp.predict_next_words('сатин', '-*---')"
   ]
  },
  {
   "cell_type": "code",
   "execution_count": 51,
   "metadata": {
    "tags": []
   },
   "outputs": [
    {
     "data": {
      "text/plain": [
       "('1 из 1:', [['гладь', 726]])"
      ]
     },
     "execution_count": 51,
     "metadata": {},
     "output_type": "execute_result"
    }
   ],
   "source": [
    "wp.predict_next_words('бугай', '--**-')"
   ]
  },
  {
   "cell_type": "markdown",
   "metadata": {},
   "source": [
    "### Отгадываем слово \"амбра\""
   ]
  },
  {
   "cell_type": "code",
   "execution_count": 52,
   "metadata": {},
   "outputs": [
    {
     "data": {
      "text/plain": [
       "('10 из 80:',\n",
       " [['сайра', 932],\n",
       "  ['митра', 895],\n",
       "  ['раина', 881],\n",
       "  ['гетра', 876],\n",
       "  ['руина', 874],\n",
       "  ['будра', 856],\n",
       "  ['рента', 856],\n",
       "  ['среда', 820],\n",
       "  ['лавра', 793],\n",
       "  ['махра', 775]])"
      ]
     },
     "execution_count": 52,
     "metadata": {},
     "output_type": "execute_result"
    }
   ],
   "source": [
    "wp.reset() # сбрасываем поиск\n",
    "wp.predict_next_words('порка', '--*-+') # одну \"а\" отгадали"
   ]
  },
  {
   "cell_type": "code",
   "execution_count": 53,
   "metadata": {
    "tags": []
   },
   "outputs": [
    {
     "data": {
      "text/plain": [
       "('5 из 5:',\n",
       " [['тиара', 612],\n",
       "  ['мшара', 304],\n",
       "  ['амбра', 252],\n",
       "  ['афера', 238],\n",
       "  ['хмара', 217]])"
      ]
     },
     "execution_count": 53,
     "metadata": {},
     "output_type": "execute_result"
    }
   ],
   "source": [
    "wp.predict_next_words('сайра', '-*-++') # нашлась вторая \"а\", в выдаче будут только слова с двумя \"а\""
   ]
  },
  {
   "cell_type": "code",
   "execution_count": 54,
   "metadata": {},
   "outputs": [
    {
     "data": {
      "text/plain": [
       "('2 из 2:', [['амбра', 252], ['афера', 238]])"
      ]
     },
     "execution_count": 54,
     "metadata": {},
     "output_type": "execute_result"
    }
   ],
   "source": [
    "wp.predict_next_words('тиара', '--*++') # для второй \"а\" осталось место только в начале слова"
   ]
  },
  {
   "cell_type": "markdown",
   "metadata": {},
   "source": [
    "### Отгадываем слово..."
   ]
  },
  {
   "cell_type": "code",
   "execution_count": 58,
   "metadata": {
    "tags": []
   },
   "outputs": [
    {
     "data": {
      "text/plain": [
       "('10 из 64:',\n",
       " [['рулон', 1613],\n",
       "  ['сидор', 1545],\n",
       "  ['тенор', 1505],\n",
       "  ['минор', 1467],\n",
       "  ['мусор', 1463],\n",
       "  ['резон', 1425],\n",
       "  ['футор', 1411],\n",
       "  ['бугор', 1392],\n",
       "  ['хутор', 1390],\n",
       "  ['створ', 1334]])"
      ]
     },
     "execution_count": 58,
     "metadata": {},
     "output_type": "execute_result"
    }
   ],
   "source": [
    "wp.reset() # сбрасываем поиск\n",
    "wp.predict_next_words('порка', '-**--')"
   ]
  },
  {
   "cell_type": "code",
   "execution_count": 59,
   "metadata": {
    "tags": []
   },
   "outputs": [
    {
     "data": {
      "text/plain": [
       "('1 из 1:', [['ореол', 849]])"
      ]
     },
     "execution_count": 59,
     "metadata": {},
     "output_type": "execute_result"
    }
   ],
   "source": [
    "wp.predict_next_words('рулон', '*-*+-')"
   ]
  },
  {
   "cell_type": "code",
   "execution_count": 57,
   "metadata": {
    "tags": []
   },
   "outputs": [
    {
     "data": {
      "text/plain": [
       "('4 из 4:', [['лазер', 268], ['шабер', 262], ['чабер', 212], ['шафер', 163]])"
      ]
     },
     "execution_count": 57,
     "metadata": {},
     "output_type": "execute_result"
    }
   ],
   "source": [
    "wp.predict_next_words('манер', '-+-++')"
   ]
  },
  {
   "cell_type": "code",
   "execution_count": null,
   "metadata": {},
   "outputs": [],
   "source": []
  }
 ],
 "metadata": {
  "extensions": {
   "jupyter_dashboards": {
    "activeView": "grid_default",
    "version": 1,
    "views": {
     "grid_default": {
      "cellMargin": 2,
      "defaultCellHeight": 60,
      "maxColumns": 12,
      "name": "grid",
      "type": "grid"
     }
    }
   }
  },
  "kernelspec": {
   "display_name": "Python 3 (ipykernel)",
   "language": "python",
   "name": "python3"
  },
  "language_info": {
   "codemirror_mode": {
    "name": "ipython",
    "version": 3
   },
   "file_extension": ".py",
   "mimetype": "text/x-python",
   "name": "python",
   "nbconvert_exporter": "python",
   "pygments_lexer": "ipython3",
   "version": "3.10.13"
  }
 },
 "nbformat": 4,
 "nbformat_minor": 4
}
